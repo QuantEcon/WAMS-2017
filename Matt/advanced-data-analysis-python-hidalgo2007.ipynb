{
 "cells": [
  {
   "cell_type": "markdown",
   "metadata": {},
   "source": [
    "# Advanced Data Analysis using Python\n",
    "\n",
    "In this seminar we demonstrate a few of the ``Python`` ecosystem tools that enable **research** in areas that can be very difficult to do in traditional tools such as ``Stata`` that are typically fit-for-purpose tools. \n",
    "\n",
    "The agility of a full programming language environment allows for a high degree of flexibility and Python provides a vast toolkit to remain productive. \n",
    "\n",
    "\n",
    "## Network Analysis\n",
    "\n",
    "Interest in studying networks is increasing within **Economics** with recent publications building network type features into their models, or using network analysis to uncover structural features of data that may otherwise go unexplored. \n",
    "\n",
    "\n",
    "## What is a Network (Graph)?\n",
    "\n",
    "Many people who have interacted with tools from network analysis have done so via the idea of Social Network Analysis (SNA). \n",
    "\n",
    "    A Graph is a way of specifying relationships among a collection of items\n",
    "\n",
    "They consist of a collection of **nodes** (or vertices) that are joined together by **edges**. \n",
    "\n",
    "An **undirected graph** is an ordered pair G = (V, E) comprising a set V of vertices or nodes or points together with a set E of edges or arcs or lines, which are 2-element subsets of V.\n",
    "\n",
    "$$\n",
    "G = (V,E)\n",
    "$$\n",
    "\n",
    "The structure of these relationships can be exploited to understand new insights into the data such as finding:\n",
    "\n",
    "1. Communities (through Clustering)\n",
    "1. Main Actors in Social Networks (Centrality)\n",
    "1. Identifying indirect relationships through shortest / longest paths\n",
    "1. Diffusion characteristics (such as disease transmission modeling)\n",
    "1. Strong and Weak ties using Edge characteristics"
   ]
  },
  {
   "cell_type": "code",
   "execution_count": 1,
   "metadata": {
    "collapsed": true
   },
   "outputs": [],
   "source": [
    "%matplotlib inline\n",
    "import networkx as nx"
   ]
  },
  {
   "cell_type": "code",
   "execution_count": 2,
   "metadata": {
    "collapsed": true
   },
   "outputs": [],
   "source": [
    "g = nx.Graph()\n",
    "g.add_edge(\"A\",\"B\")   #Add Edge between Nodes A and B\n",
    "g.add_edge(\"A\",\"C\")   #Add Edge between Nodes A and C\n",
    "g.add_edge(\"A\",\"D\")   #Add Edge between Nodes A and D"
   ]
  },
  {
   "cell_type": "code",
   "execution_count": 3,
   "metadata": {},
   "outputs": [
    {
     "data": {
      "image/png": "[encoded data removed]",
      "text/plain": [
       "<matplotlib.figure.Figure at 0x7efc28df8b38>"
      ]
     },
     "metadata": {},
     "output_type": "display_data"
    }
   ],
   "source": [
    "nx.draw_networkx(g)"
   ]
  },
  {
   "cell_type": "markdown",
   "metadata": {},
   "source": [
    "#### You can use network metrics to learn more about the structure. What is the most central node?"
   ]
  },
  {
   "cell_type": "code",
   "execution_count": 4,
   "metadata": {},
   "outputs": [
    {
     "data": {
      "text/plain": [
       "{'A': 1.0,\n",
       " 'B': 0.3333333333333333,\n",
       " 'C': 0.3333333333333333,\n",
       " 'D': 0.3333333333333333}"
      ]
     },
     "execution_count": 4,
     "metadata": {},
     "output_type": "execute_result"
    }
   ],
   "source": [
    "nx.degree_centrality(g)"
   ]
  },
  {
   "cell_type": "code",
   "execution_count": 5,
   "metadata": {
    "collapsed": true
   },
   "outputs": [],
   "source": [
    "g.add_edge(\"C\",\"D\")"
   ]
  },
  {
   "cell_type": "code",
   "execution_count": 6,
   "metadata": {},
   "outputs": [
    {
     "data": {
      "image/png": "[encoded data removed]",
      "text/plain": [
       "<matplotlib.figure.Figure at 0x7efc25760ba8>"
      ]
     },
     "metadata": {},
     "output_type": "display_data"
    }
   ],
   "source": [
    "nx.draw_networkx(g)"
   ]
  },
  {
   "cell_type": "code",
   "execution_count": 7,
   "metadata": {},
   "outputs": [
    {
     "data": {
      "text/plain": [
       "{'A': 1.0,\n",
       " 'B': 0.3333333333333333,\n",
       " 'C': 0.6666666666666666,\n",
       " 'D': 0.6666666666666666}"
      ]
     },
     "execution_count": 7,
     "metadata": {},
     "output_type": "execute_result"
    }
   ],
   "source": [
    "nx.degree_centrality(g)"
   ]
  },
  {
   "cell_type": "markdown",
   "metadata": {},
   "source": [
    "### Social Network Example: Karate Club (Zachary, 1977)\n",
    "\n",
    "One early example of Social Network Analysis was conducted by Zachary (1977) who set out to use network analysis to explain factional dynamics and to understand **fission in small groups.** A network of **friendship** was used to understand and identify how this Karate group eventually split due to an initial conflict between two members.\n",
    "\n",
    "- **Nodes:** Individuals\n",
    "- **Edges:** Connections were added between two individuals if they were consistently observed to interact outside the normal activities of the club. \n",
    "\n",
    "![Karate 1](./img/karate-club-1-combined.png) \n",
    "\n",
    "#### We can learn things by considering the structure of these networks\n",
    "\n",
    "This dataset is frequently used in the development of clustering algorithms that aim to reveal information about the system that would have been previously unknown. One such visualization (Cao, 2013) demonstrates how algorithmic analysis can reveal meaningful structure that clearly identifies roles played by certain individuals, that is based on observing simple pairs of friends. \n",
    "\n",
    "![Karate 2](./img/karate-club-2.png)\n"
   ]
  },
  {
   "cell_type": "markdown",
   "metadata": {},
   "source": [
    "------------------\n",
    "\n",
    "## Replicating the Product Space Network using International Trade Data (Hidalgo, 2007)\n",
    "\n",
    "Let's focus on an application of network analysis that is applied to a dataset, that is relatively large, to replicate some of the results contained in the Hidalgo (2007) paper and later in the [The Atlas of Complexity](http://atlas.cid.harvard.edu/) and [The Observatory of Economic Complexity](http://atlas.media.mit.edu/en/).\n",
    "\n",
    "The Hidalgo (2007) paper is used as a **motivating example** to demonstrate various tools that are available in the ``Python`` ecosystem.\n",
    "\n",
    "Let's look at one characterisation of International Trade data by considering:\n",
    "- **Nodes:** Products\n",
    "- **Edges:** the likelihood of being co-exported\n",
    "\n",
    "**Assumption:** If products are often co-exported across countries, then the products are more likely to share similar factors of production (or capabilities) that are required to produce them. For example, Shirts and Pants require a set of similar skills to produce and are likely to be co-exported. \n",
    "\n",
    "This relational information between products can be represented by a high valued edge weight.\n",
    "\n",
    "Let's work with a Toy Example with 8 products"
   ]
  },
  {
   "cell_type": "code",
   "execution_count": 8,
   "metadata": {},
   "outputs": [],
   "source": [
    "g = nx.Graph()\n",
    "g.add_nodes_from([\"Shirts\", \"Pants\", \"Oil\", \"Cars\", \"Aircraft\", \"Wheat\", \"Sugar\", \"Cows\"])\n",
    "g.add_edge(\"Shirts\", \"Pants\", attr_dict={'weight' : 0.9})\n",
    "g.add_edge(\"Shirts\", \"Cars\", attr_dict={'weight' : 0.2})\n",
    "g.add_edge(\"Shirts\", \"Cows\", attr_dict={'weight' : 0.01})\n",
    "g.add_edge(\"Shirts\", \"Sugar\", attr_dict={'weight' : 0.01})\n",
    "g.add_edge(\"Pants\", \"Cars\", attr_dict={'weight' : 0.2})\n",
    "g.add_edge(\"Oil\", \"Sugar\", attr_dict={'weight' : 0.01})\n",
    "g.add_edge(\"Oil\", \"Cars\", attr_dict={'weight' : 0.005})\n",
    "g.add_edge(\"Oil\", \"Aircraft\", attr_dict={'weight' : 0.005})\n",
    "g.add_edge(\"Cars\", \"Aircraft\", attr_dict={'weight' : 0.5})\n",
    "g.add_edge(\"Cars\", \"Aircraft\", attr_dict={'weight' : 0.5})\n",
    "g.add_edge(\"Wheat\", \"Sugar\", attr_dict={'weight' : 0.4})\n",
    "g.add_edge(\"Cows\", \"Sugar\", attr_dict={'weight' : 0.1})\n",
    "g.add_edge(\"Cows\", \"Cars\", attr_dict={'weight' : 0.001})\n",
    "g.add_edge(\"Cows\", \"Pants\", attr_dict={'weight' : 0.06})"
   ]
  },
  {
   "cell_type": "code",
   "execution_count": 9,
   "metadata": {},
   "outputs": [
    {
     "data": {
      "image/png": "[encoded data removed]",
      "text/plain": [
       "<matplotlib.figure.Figure at 0x7efc256b8b00>"
      ]
     },
     "metadata": {},
     "output_type": "display_data"
    }
   ],
   "source": [
    "pos = nx.spring_layout(g)\n",
    "weights = [g[u][v]['weight']*10 for u,v in g.edges()]\n",
    "nx.draw_networkx(g, pos=pos, width=weights)"
   ]
  },
  {
   "cell_type": "markdown",
   "metadata": {},
   "source": [
    "We can investigate this network using yearly cross-sectional information from international trade data.\n",
    "\n",
    "The **tasks** involve using product level international export data to:\n",
    "\n",
    "1. Compute Revealed Comparative Advantage and $M_{cp}$ matrices [**Tools: Pandas**]\n",
    "1. Compute Proximity Matrices ($\\phi_{pp'}$) and make this code run fast [**Tools: Pandas, Numpy, Numba, Dask**]\n",
    "1. Building Networks and Plotting Product Space Network Diagrams - albiet not as fancy [**Tools: NetworkX**]\n",
    "\n",
    "![Product Space](./img/atlas_productspace.png)\n",
    "\n"
   ]
  },
  {
   "cell_type": "code",
   "execution_count": 10,
   "metadata": {
    "collapsed": true
   },
   "outputs": [],
   "source": [
    "import pandas as pd\n",
    "import numpy as np\n",
    "import matplotlib.pyplot as plt\n",
    "from numba import jit\n",
    "import networkx as nx\n",
    "from bokeh.io import output_notebook"
   ]
  },
  {
   "cell_type": "code",
   "execution_count": 11,
   "metadata": {},
   "outputs": [
    {
     "data": {
      "text/html": [
       "\n",
       "    <div class=\"bk-root\">\n",
       "        <a href=\"http://bokeh.pydata.org\" target=\"_blank\" class=\"bk-logo bk-logo-small bk-logo-notebook\"></a>\n",
       "        <span id=\"83a2b898-b7a4-4498-a0b2-04acde57798c\">Loading BokehJS ...</span>\n",
       "    </div>"
      ]
     },
     "metadata": {},
     "output_type": "display_data"
    },
    {
     "data": {
      "application/javascript": [
       "\n",
       "(function(global) {\n",
       "  function now() {\n",
       "    return new Date();\n",
       "  }\n",
       "\n",
       "  var force = true;\n",
       "\n",
       "  if (typeof (window._bokeh_onload_callbacks) === \"undefined\" || force === true) {\n",
       "    window._bokeh_onload_callbacks = [];\n",
       "    window._bokeh_is_loading = undefined;\n",
       "  }\n",
       "\n",
       "\n",
       "  \n",
       "  if (typeof (window._bokeh_timeout) === \"undefined\" || force === true) {\n",
       "    window._bokeh_timeout = Date.now() + 5000;\n",
       "    window._bokeh_failed_load = false;\n",
       "  }\n",
       "\n",
       "  var NB_LOAD_WARNING = {'data': {'text/html':\n",
       "     \"<div style='background-color: #fdd'>\\n\"+\n",
       "     \"<p>\\n\"+\n",
       "     \"BokehJS does not appear to have successfully loaded. If loading BokehJS from CDN, this \\n\"+\n",
       "     \"may be due to a slow or bad network connection. Possible fixes:\\n\"+\n",
       "     \"</p>\\n\"+\n",
       "     \"<ul>\\n\"+\n",
       "     \"<li>re-rerun `output_notebook()` to attempt to load from CDN again, or</li>\\n\"+\n",
       "     \"<li>use INLINE resources instead, as so:</li>\\n\"+\n",
       "     \"</ul>\\n\"+\n",
       "     \"<code>\\n\"+\n",
       "     \"from bokeh.resources import INLINE\\n\"+\n",
       "     \"output_notebook(resources=INLINE)\\n\"+\n",
       "     \"</code>\\n\"+\n",
       "     \"</div>\"}};\n",
       "\n",
       "  function display_loaded() {\n",
       "    if (window.Bokeh !== undefined) {\n",
       "      var el = document.getElementById(\"83a2b898-b7a4-4498-a0b2-04acde57798c\");\n",
       "      el.textContent = \"BokehJS \" + Bokeh.version + \" successfully loaded.\";\n",
       "    } else if (Date.now() < window._bokeh_timeout) {\n",
       "      setTimeout(display_loaded, 100)\n",
       "    }\n",
       "  }\n",
       "\n",
       "  function run_callbacks() {\n",
       "    window._bokeh_onload_callbacks.forEach(function(callback) { callback() });\n",
       "    delete window._bokeh_onload_callbacks\n",
       "    console.info(\"Bokeh: all callbacks have finished\");\n",
       "  }\n",
       "\n",
       "  function load_libs(js_urls, callback) {\n",
       "    window._bokeh_onload_callbacks.push(callback);\n",
       "    if (window._bokeh_is_loading > 0) {\n",
       "      console.log(\"Bokeh: BokehJS is being loaded, scheduling callback at\", now());\n",
       "      return null;\n",
       "    }\n",
       "    if (js_urls == null || js_urls.length === 0) {\n",
       "      run_callbacks();\n",
       "      return null;\n",
       "    }\n",
       "    console.log(\"Bokeh: BokehJS not loaded, scheduling load and callback at\", now());\n",
       "    window._bokeh_is_loading = js_urls.length;\n",
       "    for (var i = 0; i < js_urls.length; i++) {\n",
       "      var url = js_urls[i];\n",
       "      var s = document.createElement('script');\n",
       "      s.src = url;\n",
       "      s.async = false;\n",
       "      s.onreadystatechange = s.onload = function() {\n",
       "        window._bokeh_is_loading--;\n",
       "        if (window._bokeh_is_loading === 0) {\n",
       "          console.log(\"Bokeh: all BokehJS libraries loaded\");\n",
       "          run_callbacks()\n",
       "        }\n",
       "      };\n",
       "      s.onerror = function() {\n",
       "        console.warn(\"failed to load library \" + url);\n",
       "      };\n",
       "      console.log(\"Bokeh: injecting script tag for BokehJS library: \", url);\n",
       "      document.getElementsByTagName(\"head\")[0].appendChild(s);\n",
       "    }\n",
       "  };var element = document.getElementById(\"83a2b898-b7a4-4498-a0b2-04acde57798c\");\n",
       "  if (element == null) {\n",
       "    console.log(\"Bokeh: ERROR: autoload.js configured with elementid '83a2b898-b7a4-4498-a0b2-04acde57798c' but no matching script tag was found. \")\n",
       "    return false;\n",
       "  }\n",
       "\n",
       "  var js_urls = [\"https://cdn.pydata.org/bokeh/release/bokeh-0.12.5.min.js\", \"https://cdn.pydata.org/bokeh/release/bokeh-widgets-0.12.5.min.js\"];\n",
       "\n",
       "  var inline_js = [\n",
       "    function(Bokeh) {\n",
       "      Bokeh.set_log_level(\"info\");\n",
       "    },\n",
       "    \n",
       "    function(Bokeh) {\n",
       "      \n",
       "    },\n",
       "    \n",
       "    function(Bokeh) {\n",
       "      \n",
       "      document.getElementById(\"83a2b898-b7a4-4498-a0b2-04acde57798c\").textContent = \"BokehJS is loading...\";\n",
       "    },\n",
       "    function(Bokeh) {\n",
       "      console.log(\"Bokeh: injecting CSS: https://cdn.pydata.org/bokeh/release/bokeh-0.12.5.min.css\");\n",
       "      Bokeh.embed.inject_css(\"https://cdn.pydata.org/bokeh/release/bokeh-0.12.5.min.css\");\n",
       "      console.log(\"Bokeh: injecting CSS: https://cdn.pydata.org/bokeh/release/bokeh-widgets-0.12.5.min.css\");\n",
       "      Bokeh.embed.inject_css(\"https://cdn.pydata.org/bokeh/release/bokeh-widgets-0.12.5.min.css\");\n",
       "    }\n",
       "  ];\n",
       "\n",
       "  function run_inline_js() {\n",
       "    \n",
       "    if ((window.Bokeh !== undefined) || (force === true)) {\n",
       "      for (var i = 0; i < inline_js.length; i++) {\n",
       "        inline_js[i](window.Bokeh);\n",
       "      }if (force === true) {\n",
       "        display_loaded();\n",
       "      }} else if (Date.now() < window._bokeh_timeout) {\n",
       "      setTimeout(run_inline_js, 100);\n",
       "    } else if (!window._bokeh_failed_load) {\n",
       "      console.log(\"Bokeh: BokehJS failed to load within specified timeout.\");\n",
       "      window._bokeh_failed_load = true;\n",
       "    } else if (force !== true) {\n",
       "      var cell = $(document.getElementById(\"83a2b898-b7a4-4498-a0b2-04acde57798c\")).parents('.cell').data().cell;\n",
       "      cell.output_area.append_execute_result(NB_LOAD_WARNING)\n",
       "    }\n",
       "\n",
       "  }\n",
       "\n",
       "  if (window._bokeh_is_loading === 0) {\n",
       "    console.log(\"Bokeh: BokehJS loaded, going straight to plotting\");\n",
       "    run_inline_js();\n",
       "  } else {\n",
       "    load_libs(js_urls, function() {\n",
       "      console.log(\"Bokeh: BokehJS plotting callback run at\", now());\n",
       "      run_inline_js();\n",
       "    });\n",
       "  }\n",
       "}(this));"
      ]
     },
     "metadata": {},
     "output_type": "display_data"
    }
   ],
   "source": [
    "#-Load Jupyter Extensions-#\n",
    "%matplotlib inline\n",
    "output_notebook()"
   ]
  },
  {
   "cell_type": "markdown",
   "metadata": {},
   "source": [
    "## Data\n",
    "\n",
    "International Trade Data is largely available in SITC and HS product classification systems. \n",
    "\n",
    "In this notebook we will focus on SITC revision 2 Level 4 data with ``786`` defined products. \n",
    "\n",
    "|Classification | Level | Products |\n",
    "|---------------|-------|----------|\n",
    "|SITC           | 4     | 786      |\n",
    "|HS             | 6     | 5016     |\n",
    "\n",
    "**Note:** \n",
    "\n",
    "We use ``SITC`` data in this seminar, but as you can see performance of code becomes even more important when working with fully disaggregated ``HS`` international trade data"
   ]
  },
  {
   "cell_type": "code",
   "execution_count": 12,
   "metadata": {
    "collapsed": true
   },
   "outputs": [],
   "source": [
    "fl = \"./data/year_origin_sitc_rev2.csv\"\n",
    "data = pd.read_csv(fl, converters={'sitc':str})   #Import SITC codes as strings to preserve formatting"
   ]
  },
  {
   "cell_type": "code",
   "execution_count": 13,
   "metadata": {},
   "outputs": [
    {
     "data": {
      "text/html": [
       "<div>\n",
       "<style>\n",
       "    .dataframe thead tr:only-child th {\n",
       "        text-align: right;\n",
       "    }\n",
       "\n",
       "    .dataframe thead th {\n",
       "        text-align: left;\n",
       "    }\n",
       "\n",
       "    .dataframe tbody tr th {\n",
       "        vertical-align: top;\n",
       "    }\n",
       "</style>\n",
       "<table border=\"1\" class=\"dataframe\">\n",
       "  <thead>\n",
       "    <tr style=\"text-align: right;\">\n",
       "      <th></th>\n",
       "      <th>year</th>\n",
       "      <th>origin</th>\n",
       "      <th>sitc</th>\n",
       "      <th>export</th>\n",
       "    </tr>\n",
       "  </thead>\n",
       "  <tbody>\n",
       "    <tr>\n",
       "      <th>0</th>\n",
       "      <td>1962</td>\n",
       "      <td>AFG</td>\n",
       "      <td>0230</td>\n",
       "      <td>4000.0</td>\n",
       "    </tr>\n",
       "    <tr>\n",
       "      <th>1</th>\n",
       "      <td>1962</td>\n",
       "      <td>AFG</td>\n",
       "      <td>0250</td>\n",
       "      <td>66000.0</td>\n",
       "    </tr>\n",
       "    <tr>\n",
       "      <th>2</th>\n",
       "      <td>1962</td>\n",
       "      <td>AFG</td>\n",
       "      <td>0540</td>\n",
       "      <td>74000.0</td>\n",
       "    </tr>\n",
       "    <tr>\n",
       "      <th>3</th>\n",
       "      <td>1962</td>\n",
       "      <td>AFG</td>\n",
       "      <td>0545</td>\n",
       "      <td>17000.0</td>\n",
       "    </tr>\n",
       "    <tr>\n",
       "      <th>4</th>\n",
       "      <td>1962</td>\n",
       "      <td>AFG</td>\n",
       "      <td>0548</td>\n",
       "      <td>33000.0</td>\n",
       "    </tr>\n",
       "  </tbody>\n",
       "</table>\n",
       "</div>"
      ],
      "text/plain": [
       "   year origin  sitc   export\n",
       "0  1962    AFG  0230   4000.0\n",
       "1  1962    AFG  0250  66000.0\n",
       "2  1962    AFG  0540  74000.0\n",
       "3  1962    AFG  0545  17000.0\n",
       "4  1962    AFG  0548  33000.0"
      ]
     },
     "execution_count": 13,
     "metadata": {},
     "output_type": "execute_result"
    }
   ],
   "source": [
    "data.head()"
   ]
  },
  {
   "cell_type": "markdown",
   "metadata": {},
   "source": [
    "### Question 1: What years are available in this dataset?\n",
    "\n",
    "**Hint:** There is a method named ``unique()``, so you should get the array of years and then call ``.unique()``"
   ]
  },
  {
   "cell_type": "code",
   "execution_count": null,
   "metadata": {
    "collapsed": true
   },
   "outputs": [],
   "source": []
  },
  {
   "cell_type": "markdown",
   "metadata": {},
   "source": [
    "<button data-toggle=\"collapse\" data-target=\"#sol1\" class='btn btn-primary'>Solution</button>\n",
    "<div id=\"sol1\" class=\"collapse\">\n",
    "```python\n",
    "data['year'].unique()\n",
    "```"
   ]
  },
  {
   "cell_type": "markdown",
   "metadata": {},
   "source": [
    "### Question 2: How many non-zero trade flow values are in this dataset?"
   ]
  },
  {
   "cell_type": "code",
   "execution_count": null,
   "metadata": {
    "collapsed": true
   },
   "outputs": [],
   "source": []
  },
  {
   "cell_type": "markdown",
   "metadata": {},
   "source": [
    "<button data-toggle=\"collapse\" data-target=\"#sol2\" class='btn btn-primary'>Solution</button>\n",
    "<div id=\"sol2\" class=\"collapse\">\n",
    "```python\n",
    "data.shape[0]\n",
    "```"
   ]
  },
  {
   "cell_type": "markdown",
   "metadata": {},
   "source": [
    "### Question 3: What countries are available in this dataset?"
   ]
  },
  {
   "cell_type": "code",
   "execution_count": null,
   "metadata": {
    "collapsed": true
   },
   "outputs": [],
   "source": []
  },
  {
   "cell_type": "markdown",
   "metadata": {},
   "source": [
    "<button data-toggle=\"collapse\" data-target=\"#sol3\" class='btn btn-primary'>Solution</button>\n",
    "<div id=\"sol3\" class=\"collapse\">\n",
    "```python\n",
    "data['origin'].unique()\n",
    "```"
   ]
  },
  {
   "cell_type": "code",
   "execution_count": 14,
   "metadata": {},
   "outputs": [
    {
     "data": {
      "text/html": [
       "<div>\n",
       "<style>\n",
       "    .dataframe thead tr:only-child th {\n",
       "        text-align: right;\n",
       "    }\n",
       "\n",
       "    .dataframe thead th {\n",
       "        text-align: left;\n",
       "    }\n",
       "\n",
       "    .dataframe tbody tr th {\n",
       "        vertical-align: top;\n",
       "    }\n",
       "</style>\n",
       "<table border=\"1\" class=\"dataframe\">\n",
       "  <thead>\n",
       "    <tr style=\"text-align: right;\">\n",
       "      <th></th>\n",
       "      <th>year</th>\n",
       "      <th>origin</th>\n",
       "      <th>sitc</th>\n",
       "      <th>export</th>\n",
       "    </tr>\n",
       "  </thead>\n",
       "  <tbody>\n",
       "    <tr>\n",
       "      <th>2213361</th>\n",
       "      <td>2000</td>\n",
       "      <td>AUS</td>\n",
       "      <td>0011</td>\n",
       "      <td>260132101.0</td>\n",
       "    </tr>\n",
       "    <tr>\n",
       "      <th>2213362</th>\n",
       "      <td>2000</td>\n",
       "      <td>AUS</td>\n",
       "      <td>0012</td>\n",
       "      <td>167611315.0</td>\n",
       "    </tr>\n",
       "    <tr>\n",
       "      <th>2213363</th>\n",
       "      <td>2000</td>\n",
       "      <td>AUS</td>\n",
       "      <td>0013</td>\n",
       "      <td>280098.0</td>\n",
       "    </tr>\n",
       "    <tr>\n",
       "      <th>2213364</th>\n",
       "      <td>2000</td>\n",
       "      <td>AUS</td>\n",
       "      <td>0014</td>\n",
       "      <td>548603.0</td>\n",
       "    </tr>\n",
       "    <tr>\n",
       "      <th>2213365</th>\n",
       "      <td>2000</td>\n",
       "      <td>AUS</td>\n",
       "      <td>0015</td>\n",
       "      <td>134571371.0</td>\n",
       "    </tr>\n",
       "  </tbody>\n",
       "</table>\n",
       "</div>"
      ],
      "text/plain": [
       "         year origin  sitc       export\n",
       "2213361  2000    AUS  0011  260132101.0\n",
       "2213362  2000    AUS  0012  167611315.0\n",
       "2213363  2000    AUS  0013     280098.0\n",
       "2213364  2000    AUS  0014     548603.0\n",
       "2213365  2000    AUS  0015  134571371.0"
      ]
     },
     "execution_count": 14,
     "metadata": {},
     "output_type": "execute_result"
    }
   ],
   "source": [
    "data[(data['year'] == 2000)&(data['origin']==\"AUS\")].head()"
   ]
  },
  {
   "cell_type": "code",
   "execution_count": 15,
   "metadata": {},
   "outputs": [
    {
     "data": {
      "text/html": [
       "<div>\n",
       "<style>\n",
       "    .dataframe thead tr:only-child th {\n",
       "        text-align: right;\n",
       "    }\n",
       "\n",
       "    .dataframe thead th {\n",
       "        text-align: left;\n",
       "    }\n",
       "\n",
       "    .dataframe tbody tr th {\n",
       "        vertical-align: top;\n",
       "    }\n",
       "</style>\n",
       "<table border=\"1\" class=\"dataframe\">\n",
       "  <thead>\n",
       "    <tr style=\"text-align: right;\">\n",
       "      <th>year</th>\n",
       "      <th>1962</th>\n",
       "      <th>1963</th>\n",
       "      <th>1964</th>\n",
       "      <th>1965</th>\n",
       "      <th>1966</th>\n",
       "      <th>1967</th>\n",
       "      <th>1968</th>\n",
       "      <th>1969</th>\n",
       "      <th>1970</th>\n",
       "      <th>1971</th>\n",
       "      <th>...</th>\n",
       "      <th>2005</th>\n",
       "      <th>2006</th>\n",
       "      <th>2007</th>\n",
       "      <th>2008</th>\n",
       "      <th>2009</th>\n",
       "      <th>2010</th>\n",
       "      <th>2011</th>\n",
       "      <th>2012</th>\n",
       "      <th>2013</th>\n",
       "      <th>2014</th>\n",
       "    </tr>\n",
       "    <tr>\n",
       "      <th>sitc</th>\n",
       "      <th></th>\n",
       "      <th></th>\n",
       "      <th></th>\n",
       "      <th></th>\n",
       "      <th></th>\n",
       "      <th></th>\n",
       "      <th></th>\n",
       "      <th></th>\n",
       "      <th></th>\n",
       "      <th></th>\n",
       "      <th></th>\n",
       "      <th></th>\n",
       "      <th></th>\n",
       "      <th></th>\n",
       "      <th></th>\n",
       "      <th></th>\n",
       "      <th></th>\n",
       "      <th></th>\n",
       "      <th></th>\n",
       "      <th></th>\n",
       "      <th></th>\n",
       "    </tr>\n",
       "  </thead>\n",
       "  <tbody>\n",
       "    <tr>\n",
       "      <th>0010</th>\n",
       "      <td>NaN</td>\n",
       "      <td>NaN</td>\n",
       "      <td>NaN</td>\n",
       "      <td>1000.0</td>\n",
       "      <td>NaN</td>\n",
       "      <td>NaN</td>\n",
       "      <td>NaN</td>\n",
       "      <td>1000.0</td>\n",
       "      <td>NaN</td>\n",
       "      <td>NaN</td>\n",
       "      <td>...</td>\n",
       "      <td>NaN</td>\n",
       "      <td>NaN</td>\n",
       "      <td>NaN</td>\n",
       "      <td>NaN</td>\n",
       "      <td>NaN</td>\n",
       "      <td>NaN</td>\n",
       "      <td>NaN</td>\n",
       "      <td>NaN</td>\n",
       "      <td>NaN</td>\n",
       "      <td>NaN</td>\n",
       "    </tr>\n",
       "    <tr>\n",
       "      <th>0011</th>\n",
       "      <td>1286000.0</td>\n",
       "      <td>675000.0</td>\n",
       "      <td>1177000.0</td>\n",
       "      <td>1700000.0</td>\n",
       "      <td>748000.0</td>\n",
       "      <td>548000.0</td>\n",
       "      <td>586000.0</td>\n",
       "      <td>747000.0</td>\n",
       "      <td>331000.0</td>\n",
       "      <td>443000.0</td>\n",
       "      <td>...</td>\n",
       "      <td>283381176.0</td>\n",
       "      <td>284544151.0</td>\n",
       "      <td>365401097.0</td>\n",
       "      <td>571444736.0</td>\n",
       "      <td>586230117.0</td>\n",
       "      <td>793934945.0</td>\n",
       "      <td>650001457.0</td>\n",
       "      <td>627274883.0</td>\n",
       "      <td>728998394.0</td>\n",
       "      <td>1.114734e+09</td>\n",
       "    </tr>\n",
       "    <tr>\n",
       "      <th>0012</th>\n",
       "      <td>2600000.0</td>\n",
       "      <td>3619000.0</td>\n",
       "      <td>5593000.0</td>\n",
       "      <td>3560000.0</td>\n",
       "      <td>4725000.0</td>\n",
       "      <td>5078000.0</td>\n",
       "      <td>5578000.0</td>\n",
       "      <td>6828000.0</td>\n",
       "      <td>11517000.0</td>\n",
       "      <td>13321000.0</td>\n",
       "      <td>...</td>\n",
       "      <td>211748259.0</td>\n",
       "      <td>215548475.0</td>\n",
       "      <td>216467212.0</td>\n",
       "      <td>307677017.0</td>\n",
       "      <td>296862273.0</td>\n",
       "      <td>319842757.0</td>\n",
       "      <td>347639153.0</td>\n",
       "      <td>296233596.0</td>\n",
       "      <td>174194459.0</td>\n",
       "      <td>2.209887e+08</td>\n",
       "    </tr>\n",
       "    <tr>\n",
       "      <th>0013</th>\n",
       "      <td>26000.0</td>\n",
       "      <td>52000.0</td>\n",
       "      <td>81000.0</td>\n",
       "      <td>69000.0</td>\n",
       "      <td>60000.0</td>\n",
       "      <td>32000.0</td>\n",
       "      <td>99000.0</td>\n",
       "      <td>108000.0</td>\n",
       "      <td>108000.0</td>\n",
       "      <td>189000.0</td>\n",
       "      <td>...</td>\n",
       "      <td>260620.0</td>\n",
       "      <td>309274.0</td>\n",
       "      <td>549802.0</td>\n",
       "      <td>153458.0</td>\n",
       "      <td>37764.0</td>\n",
       "      <td>224888.0</td>\n",
       "      <td>NaN</td>\n",
       "      <td>NaN</td>\n",
       "      <td>345256.0</td>\n",
       "      <td>2.302240e+05</td>\n",
       "    </tr>\n",
       "    <tr>\n",
       "      <th>0014</th>\n",
       "      <td>375000.0</td>\n",
       "      <td>398000.0</td>\n",
       "      <td>445000.0</td>\n",
       "      <td>187000.0</td>\n",
       "      <td>83000.0</td>\n",
       "      <td>73000.0</td>\n",
       "      <td>30000.0</td>\n",
       "      <td>83000.0</td>\n",
       "      <td>263000.0</td>\n",
       "      <td>258000.0</td>\n",
       "      <td>...</td>\n",
       "      <td>592790.0</td>\n",
       "      <td>2842029.0</td>\n",
       "      <td>3599939.0</td>\n",
       "      <td>4708910.0</td>\n",
       "      <td>6542608.0</td>\n",
       "      <td>5466152.0</td>\n",
       "      <td>5372783.0</td>\n",
       "      <td>4237839.0</td>\n",
       "      <td>1165708.0</td>\n",
       "      <td>3.056300e+05</td>\n",
       "    </tr>\n",
       "  </tbody>\n",
       "</table>\n",
       "<p>5 rows × 53 columns</p>\n",
       "</div>"
      ],
      "text/plain": [
       "year       1962       1963       1964       1965       1966       1967  \\\n",
       "sitc                                                                     \n",
       "0010        NaN        NaN        NaN     1000.0        NaN        NaN   \n",
       "0011  1286000.0   675000.0  1177000.0  1700000.0   748000.0   548000.0   \n",
       "0012  2600000.0  3619000.0  5593000.0  3560000.0  4725000.0  5078000.0   \n",
       "0013    26000.0    52000.0    81000.0    69000.0    60000.0    32000.0   \n",
       "0014   375000.0   398000.0   445000.0   187000.0    83000.0    73000.0   \n",
       "\n",
       "year       1968       1969        1970        1971      ...              2005  \\\n",
       "sitc                                                    ...                     \n",
       "0010        NaN     1000.0         NaN         NaN      ...               NaN   \n",
       "0011   586000.0   747000.0    331000.0    443000.0      ...       283381176.0   \n",
       "0012  5578000.0  6828000.0  11517000.0  13321000.0      ...       211748259.0   \n",
       "0013    99000.0   108000.0    108000.0    189000.0      ...          260620.0   \n",
       "0014    30000.0    83000.0    263000.0    258000.0      ...          592790.0   \n",
       "\n",
       "year         2006         2007         2008         2009         2010  \\\n",
       "sitc                                                                    \n",
       "0010          NaN          NaN          NaN          NaN          NaN   \n",
       "0011  284544151.0  365401097.0  571444736.0  586230117.0  793934945.0   \n",
       "0012  215548475.0  216467212.0  307677017.0  296862273.0  319842757.0   \n",
       "0013     309274.0     549802.0     153458.0      37764.0     224888.0   \n",
       "0014    2842029.0    3599939.0    4708910.0    6542608.0    5466152.0   \n",
       "\n",
       "year         2011         2012         2013          2014  \n",
       "sitc                                                       \n",
       "0010          NaN          NaN          NaN           NaN  \n",
       "0011  650001457.0  627274883.0  728998394.0  1.114734e+09  \n",
       "0012  347639153.0  296233596.0  174194459.0  2.209887e+08  \n",
       "0013          NaN          NaN     345256.0  2.302240e+05  \n",
       "0014    5372783.0    4237839.0    1165708.0  3.056300e+05  \n",
       "\n",
       "[5 rows x 53 columns]"
      ]
     },
     "execution_count": 15,
     "metadata": {},
     "output_type": "execute_result"
    }
   ],
   "source": [
    "data[data['origin'] == 'AUS'].set_index([\"year\",\"sitc\"])[\"export\"].unstack(level=\"year\").head()"
   ]
  },
  {
   "cell_type": "markdown",
   "metadata": {},
   "source": [
    "---------------\n",
    "\n",
    "## Computing Revealed Comparative Advantage\n",
    "\n",
    "The literature uses the standard Balassa definition for Revealed Comparative Advantage\n",
    "\n",
    "$$\n",
    "\\large\n",
    "RCA_{cpt} = \\frac{\\frac{E_{cpt}}{E_{ct}}}{\\frac{E_{pt}}{E_t}}\n",
    "$$\n",
    "\n",
    "where,\n",
    "\n",
    "1. $E_{cpt}$ are exports from country $c$ in product $p$ at time $t$\n",
    "1. $E_{ct}$ are total country $c$ exports at time $t$\n",
    "1. $E_{pt}$ are total product $p$ exports at time $t$\n",
    "1. $E_{t}$ are total world exports at time $t$\n",
    "\n",
    "**Reference:** Balassa, B. (1965), Trade Liberalisation and Revealed Comparative Advantage, The Manchester School, 33, 99-123."
   ]
  },
  {
   "cell_type": "markdown",
   "metadata": {},
   "source": [
    "To compute **RCA** we need to aggregate data at difference levels to obtain each component of the fraction defined above. \n",
    "\n",
    "Let's break the equation down to figure out what needs to be computed:\n",
    "\n",
    "$$\n",
    "\\large\n",
    "E_{ct} = \\sum_{ct}{E_{cpt}}\n",
    "$$"
   ]
  },
  {
   "cell_type": "code",
   "execution_count": 16,
   "metadata": {},
   "outputs": [
    {
     "data": {
      "text/html": [
       "<div>\n",
       "<style>\n",
       "    .dataframe thead tr:only-child th {\n",
       "        text-align: right;\n",
       "    }\n",
       "\n",
       "    .dataframe thead th {\n",
       "        text-align: left;\n",
       "    }\n",
       "\n",
       "    .dataframe tbody tr th {\n",
       "        vertical-align: top;\n",
       "    }\n",
       "</style>\n",
       "<table border=\"1\" class=\"dataframe\">\n",
       "  <thead>\n",
       "    <tr style=\"text-align: right;\">\n",
       "      <th></th>\n",
       "      <th></th>\n",
       "      <th>export</th>\n",
       "    </tr>\n",
       "    <tr>\n",
       "      <th>year</th>\n",
       "      <th>origin</th>\n",
       "      <th></th>\n",
       "    </tr>\n",
       "  </thead>\n",
       "  <tbody>\n",
       "    <tr>\n",
       "      <th rowspan=\"2\" valign=\"top\">1962</th>\n",
       "      <th>AFG</th>\n",
       "      <td>86135000.0</td>\n",
       "    </tr>\n",
       "    <tr>\n",
       "      <th>AGO</th>\n",
       "      <td>119458000.0</td>\n",
       "    </tr>\n",
       "  </tbody>\n",
       "</table>\n",
       "</div>"
      ],
      "text/plain": [
       "                  export\n",
       "year origin             \n",
       "1962 AFG      86135000.0\n",
       "     AGO     119458000.0"
      ]
     },
     "execution_count": 16,
     "metadata": {},
     "output_type": "execute_result"
    }
   ],
   "source": [
    "cntry_export = data[[\"year\", \"origin\", \"export\"]].groupby(by=[\"year\", \"origin\"]).sum()\n",
    "cntry_export.head(n=2)"
   ]
  },
  {
   "cell_type": "markdown",
   "metadata": {},
   "source": [
    "This gives us a ``pandas.DataFrame`` that is indexed by a multi-index object. This can be very useful but we would like to use this data in the original data table for each product exported at time t by each country. We could use this new object and:\n",
    "\n",
    "1. ``merge`` the data back into the original data DataFrame\n",
    "2. use ``transform`` to request an object that is of the same shape as the original data DataFrame. "
   ]
  },
  {
   "cell_type": "code",
   "execution_count": 17,
   "metadata": {},
   "outputs": [
    {
     "data": {
      "text/html": [
       "<div>\n",
       "<style>\n",
       "    .dataframe thead tr:only-child th {\n",
       "        text-align: right;\n",
       "    }\n",
       "\n",
       "    .dataframe thead th {\n",
       "        text-align: left;\n",
       "    }\n",
       "\n",
       "    .dataframe tbody tr th {\n",
       "        vertical-align: top;\n",
       "    }\n",
       "</style>\n",
       "<table border=\"1\" class=\"dataframe\">\n",
       "  <thead>\n",
       "    <tr style=\"text-align: right;\">\n",
       "      <th></th>\n",
       "      <th>export</th>\n",
       "    </tr>\n",
       "  </thead>\n",
       "  <tbody>\n",
       "    <tr>\n",
       "      <th>0</th>\n",
       "      <td>86135000.0</td>\n",
       "    </tr>\n",
       "    <tr>\n",
       "      <th>1</th>\n",
       "      <td>86135000.0</td>\n",
       "    </tr>\n",
       "  </tbody>\n",
       "</table>\n",
       "</div>"
      ],
      "text/plain": [
       "       export\n",
       "0  86135000.0\n",
       "1  86135000.0"
      ]
     },
     "execution_count": 17,
     "metadata": {},
     "output_type": "execute_result"
    }
   ],
   "source": [
    "data[[\"year\", \"origin\", \"export\"]].groupby(by=[\"year\", \"origin\"]).transform(np.sum).head(n=2)"
   ]
  },
  {
   "cell_type": "code",
   "execution_count": 18,
   "metadata": {
    "collapsed": true
   },
   "outputs": [],
   "source": [
    "#-This can be added to the initial data table as a column-#\n",
    "data[\"cntry_export\"] = data[[\"year\", \"origin\", \"export\"]].groupby(by=[\"year\", \"origin\"]).transform(np.sum)"
   ]
  },
  {
   "cell_type": "code",
   "execution_count": 19,
   "metadata": {},
   "outputs": [
    {
     "data": {
      "text/html": [
       "<div>\n",
       "<style>\n",
       "    .dataframe thead tr:only-child th {\n",
       "        text-align: right;\n",
       "    }\n",
       "\n",
       "    .dataframe thead th {\n",
       "        text-align: left;\n",
       "    }\n",
       "\n",
       "    .dataframe tbody tr th {\n",
       "        vertical-align: top;\n",
       "    }\n",
       "</style>\n",
       "<table border=\"1\" class=\"dataframe\">\n",
       "  <thead>\n",
       "    <tr style=\"text-align: right;\">\n",
       "      <th></th>\n",
       "      <th>year</th>\n",
       "      <th>origin</th>\n",
       "      <th>sitc</th>\n",
       "      <th>export</th>\n",
       "      <th>cntry_export</th>\n",
       "    </tr>\n",
       "  </thead>\n",
       "  <tbody>\n",
       "    <tr>\n",
       "      <th>0</th>\n",
       "      <td>1962</td>\n",
       "      <td>AFG</td>\n",
       "      <td>0230</td>\n",
       "      <td>4000.0</td>\n",
       "      <td>86135000.0</td>\n",
       "    </tr>\n",
       "    <tr>\n",
       "      <th>1</th>\n",
       "      <td>1962</td>\n",
       "      <td>AFG</td>\n",
       "      <td>0250</td>\n",
       "      <td>66000.0</td>\n",
       "      <td>86135000.0</td>\n",
       "    </tr>\n",
       "  </tbody>\n",
       "</table>\n",
       "</div>"
      ],
      "text/plain": [
       "   year origin  sitc   export  cntry_export\n",
       "0  1962    AFG  0230   4000.0    86135000.0\n",
       "1  1962    AFG  0250  66000.0    86135000.0"
      ]
     },
     "execution_count": 19,
     "metadata": {},
     "output_type": "execute_result"
    }
   ],
   "source": [
    "#-We have now added the same value for each product exported by AFG in 1962\n",
    "data.head(n=2)"
   ]
  },
  {
   "cell_type": "markdown",
   "metadata": {},
   "source": [
    "#### Compute Total Product Export, and Total World Export"
   ]
  },
  {
   "cell_type": "code",
   "execution_count": 20,
   "metadata": {
    "collapsed": true
   },
   "outputs": [],
   "source": [
    "data[\"prod_export\"] = data[[\"year\", \"sitc\", \"export\"]].groupby(by=[\"year\", \"sitc\"]).transform(np.sum)\n",
    "data[\"world_export\"] = data[[\"year\", \"export\"]].groupby(by=[\"year\"]).transform(np.sum)"
   ]
  },
  {
   "cell_type": "markdown",
   "metadata": {},
   "source": [
    "Now that the components of the equation have been computed we can now simply calculate $RCA$ as expressed by the original fraction"
   ]
  },
  {
   "cell_type": "code",
   "execution_count": 21,
   "metadata": {},
   "outputs": [],
   "source": [
    "data[\"rca\"] = (data[\"export\"] / data[\"cntry_export\"]) / (data[\"prod_export\"] / data[\"world_export\"])"
   ]
  },
  {
   "cell_type": "code",
   "execution_count": 22,
   "metadata": {},
   "outputs": [
    {
     "data": {
      "text/html": [
       "<div>\n",
       "<style>\n",
       "    .dataframe thead tr:only-child th {\n",
       "        text-align: right;\n",
       "    }\n",
       "\n",
       "    .dataframe thead th {\n",
       "        text-align: left;\n",
       "    }\n",
       "\n",
       "    .dataframe tbody tr th {\n",
       "        vertical-align: top;\n",
       "    }\n",
       "</style>\n",
       "<table border=\"1\" class=\"dataframe\">\n",
       "  <thead>\n",
       "    <tr style=\"text-align: right;\">\n",
       "      <th></th>\n",
       "      <th>year</th>\n",
       "      <th>origin</th>\n",
       "      <th>sitc</th>\n",
       "      <th>export</th>\n",
       "      <th>cntry_export</th>\n",
       "      <th>prod_export</th>\n",
       "      <th>world_export</th>\n",
       "      <th>rca</th>\n",
       "    </tr>\n",
       "  </thead>\n",
       "  <tbody>\n",
       "    <tr>\n",
       "      <th>0</th>\n",
       "      <td>1962</td>\n",
       "      <td>AFG</td>\n",
       "      <td>0230</td>\n",
       "      <td>4000.0</td>\n",
       "      <td>86135000.0</td>\n",
       "      <td>438581000.0</td>\n",
       "      <td>1.428420e+11</td>\n",
       "      <td>0.015125</td>\n",
       "    </tr>\n",
       "    <tr>\n",
       "      <th>1</th>\n",
       "      <td>1962</td>\n",
       "      <td>AFG</td>\n",
       "      <td>0250</td>\n",
       "      <td>66000.0</td>\n",
       "      <td>86135000.0</td>\n",
       "      <td>261448000.0</td>\n",
       "      <td>1.428420e+11</td>\n",
       "      <td>0.418634</td>\n",
       "    </tr>\n",
       "    <tr>\n",
       "      <th>2</th>\n",
       "      <td>1962</td>\n",
       "      <td>AFG</td>\n",
       "      <td>0540</td>\n",
       "      <td>74000.0</td>\n",
       "      <td>86135000.0</td>\n",
       "      <td>48924000.0</td>\n",
       "      <td>1.428420e+11</td>\n",
       "      <td>2.508338</td>\n",
       "    </tr>\n",
       "    <tr>\n",
       "      <th>3</th>\n",
       "      <td>1962</td>\n",
       "      <td>AFG</td>\n",
       "      <td>0545</td>\n",
       "      <td>17000.0</td>\n",
       "      <td>86135000.0</td>\n",
       "      <td>349188000.0</td>\n",
       "      <td>1.428420e+11</td>\n",
       "      <td>0.080736</td>\n",
       "    </tr>\n",
       "    <tr>\n",
       "      <th>4</th>\n",
       "      <td>1962</td>\n",
       "      <td>AFG</td>\n",
       "      <td>0548</td>\n",
       "      <td>33000.0</td>\n",
       "      <td>86135000.0</td>\n",
       "      <td>85126000.0</td>\n",
       "      <td>1.428420e+11</td>\n",
       "      <td>0.642877</td>\n",
       "    </tr>\n",
       "  </tbody>\n",
       "</table>\n",
       "</div>"
      ],
      "text/plain": [
       "   year origin  sitc   export  cntry_export  prod_export  world_export  \\\n",
       "0  1962    AFG  0230   4000.0    86135000.0  438581000.0  1.428420e+11   \n",
       "1  1962    AFG  0250  66000.0    86135000.0  261448000.0  1.428420e+11   \n",
       "2  1962    AFG  0540  74000.0    86135000.0   48924000.0  1.428420e+11   \n",
       "3  1962    AFG  0545  17000.0    86135000.0  349188000.0  1.428420e+11   \n",
       "4  1962    AFG  0548  33000.0    86135000.0   85126000.0  1.428420e+11   \n",
       "\n",
       "        rca  \n",
       "0  0.015125  \n",
       "1  0.418634  \n",
       "2  2.508338  \n",
       "3  0.080736  \n",
       "4  0.642877  "
      ]
     },
     "execution_count": 22,
     "metadata": {},
     "output_type": "execute_result"
    }
   ],
   "source": [
    "data.head()"
   ]
  },
  {
   "cell_type": "markdown",
   "metadata": {},
   "source": [
    "---------------__\n",
    "## Computing $M_{cp}$ Matrix: Who Exports What Products and When?\n",
    "\n",
    "$RCA >= 1$ is where country $c$ has a revealed comparative advantage in product $p$ at time $t$\n",
    "\n",
    "Therefore we can define the matrix $M_{cp}$:\n",
    "\n",
    "$$\n",
    "M_{cp} = \n",
    "\\begin{cases}\n",
    "  1 \\text{ if  }RCA \\ge 1\\\\    \n",
    "  0 \\text{ if  }RCA \\lt 1   \n",
    "\\end{cases}\n",
    "$$\n",
    "\n",
    "We can first construct $RCA$ matrices and then compute $M_{cp}$ using a conditional map\n"
   ]
  },
  {
   "cell_type": "code",
   "execution_count": 23,
   "metadata": {
    "collapsed": true,
    "scrolled": true
   },
   "outputs": [],
   "source": [
    "#-Generate Yearly RCA Mcp Matrices and store them in a Dictionary-#\n",
    "rca = {}\n",
    "for year in data.year.unique():\n",
    "    yr = data[data.year == year].set_index(['origin', 'sitc']).unstack('sitc')['rca']\n",
    "    rca[year] = yr"
   ]
  },
  {
   "cell_type": "code",
   "execution_count": 24,
   "metadata": {},
   "outputs": [
    {
     "data": {
      "text/html": [
       "<div>\n",
       "<style>\n",
       "    .dataframe thead tr:only-child th {\n",
       "        text-align: right;\n",
       "    }\n",
       "\n",
       "    .dataframe thead th {\n",
       "        text-align: left;\n",
       "    }\n",
       "\n",
       "    .dataframe tbody tr th {\n",
       "        vertical-align: top;\n",
       "    }\n",
       "</style>\n",
       "<table border=\"1\" class=\"dataframe\">\n",
       "  <thead>\n",
       "    <tr style=\"text-align: right;\">\n",
       "      <th>sitc</th>\n",
       "      <th>0011</th>\n",
       "      <th>0012</th>\n",
       "      <th>0013</th>\n",
       "      <th>0014</th>\n",
       "      <th>0015</th>\n",
       "      <th>0111</th>\n",
       "      <th>0112</th>\n",
       "      <th>0113</th>\n",
       "      <th>0114</th>\n",
       "      <th>0115</th>\n",
       "      <th>...</th>\n",
       "      <th>8994</th>\n",
       "      <th>8996</th>\n",
       "      <th>8997</th>\n",
       "      <th>8998</th>\n",
       "      <th>8999</th>\n",
       "      <th>9310</th>\n",
       "      <th>9410</th>\n",
       "      <th>9510</th>\n",
       "      <th>9610</th>\n",
       "      <th>9710</th>\n",
       "    </tr>\n",
       "    <tr>\n",
       "      <th>origin</th>\n",
       "      <th></th>\n",
       "      <th></th>\n",
       "      <th></th>\n",
       "      <th></th>\n",
       "      <th></th>\n",
       "      <th></th>\n",
       "      <th></th>\n",
       "      <th></th>\n",
       "      <th></th>\n",
       "      <th></th>\n",
       "      <th></th>\n",
       "      <th></th>\n",
       "      <th></th>\n",
       "      <th></th>\n",
       "      <th></th>\n",
       "      <th></th>\n",
       "      <th></th>\n",
       "      <th></th>\n",
       "      <th></th>\n",
       "      <th></th>\n",
       "      <th></th>\n",
       "    </tr>\n",
       "  </thead>\n",
       "  <tbody>\n",
       "    <tr>\n",
       "      <th>ABW</th>\n",
       "      <td>NaN</td>\n",
       "      <td>NaN</td>\n",
       "      <td>NaN</td>\n",
       "      <td>NaN</td>\n",
       "      <td>NaN</td>\n",
       "      <td>0.000189</td>\n",
       "      <td>NaN</td>\n",
       "      <td>0.008223</td>\n",
       "      <td>NaN</td>\n",
       "      <td>NaN</td>\n",
       "      <td>...</td>\n",
       "      <td>NaN</td>\n",
       "      <td>0.009006</td>\n",
       "      <td>0.000910</td>\n",
       "      <td>0.006053</td>\n",
       "      <td>0.001468</td>\n",
       "      <td>1.264113</td>\n",
       "      <td>0.104766</td>\n",
       "      <td>NaN</td>\n",
       "      <td>NaN</td>\n",
       "      <td>0.76756</td>\n",
       "    </tr>\n",
       "    <tr>\n",
       "      <th>AFG</th>\n",
       "      <td>NaN</td>\n",
       "      <td>NaN</td>\n",
       "      <td>NaN</td>\n",
       "      <td>NaN</td>\n",
       "      <td>NaN</td>\n",
       "      <td>0.176481</td>\n",
       "      <td>0.066896</td>\n",
       "      <td>NaN</td>\n",
       "      <td>NaN</td>\n",
       "      <td>NaN</td>\n",
       "      <td>...</td>\n",
       "      <td>NaN</td>\n",
       "      <td>0.067773</td>\n",
       "      <td>0.782384</td>\n",
       "      <td>NaN</td>\n",
       "      <td>NaN</td>\n",
       "      <td>0.066374</td>\n",
       "      <td>NaN</td>\n",
       "      <td>NaN</td>\n",
       "      <td>NaN</td>\n",
       "      <td>NaN</td>\n",
       "    </tr>\n",
       "    <tr>\n",
       "      <th>AGO</th>\n",
       "      <td>NaN</td>\n",
       "      <td>NaN</td>\n",
       "      <td>0.000012</td>\n",
       "      <td>NaN</td>\n",
       "      <td>NaN</td>\n",
       "      <td>0.001756</td>\n",
       "      <td>NaN</td>\n",
       "      <td>NaN</td>\n",
       "      <td>NaN</td>\n",
       "      <td>NaN</td>\n",
       "      <td>...</td>\n",
       "      <td>NaN</td>\n",
       "      <td>NaN</td>\n",
       "      <td>NaN</td>\n",
       "      <td>0.000137</td>\n",
       "      <td>NaN</td>\n",
       "      <td>0.026715</td>\n",
       "      <td>NaN</td>\n",
       "      <td>NaN</td>\n",
       "      <td>0.005944</td>\n",
       "      <td>NaN</td>\n",
       "    </tr>\n",
       "    <tr>\n",
       "      <th>AIA</th>\n",
       "      <td>NaN</td>\n",
       "      <td>NaN</td>\n",
       "      <td>NaN</td>\n",
       "      <td>NaN</td>\n",
       "      <td>NaN</td>\n",
       "      <td>15.716737</td>\n",
       "      <td>6.270237</td>\n",
       "      <td>NaN</td>\n",
       "      <td>NaN</td>\n",
       "      <td>NaN</td>\n",
       "      <td>...</td>\n",
       "      <td>NaN</td>\n",
       "      <td>NaN</td>\n",
       "      <td>NaN</td>\n",
       "      <td>NaN</td>\n",
       "      <td>0.649915</td>\n",
       "      <td>6.906314</td>\n",
       "      <td>NaN</td>\n",
       "      <td>NaN</td>\n",
       "      <td>NaN</td>\n",
       "      <td>NaN</td>\n",
       "    </tr>\n",
       "    <tr>\n",
       "      <th>ALB</th>\n",
       "      <td>NaN</td>\n",
       "      <td>NaN</td>\n",
       "      <td>NaN</td>\n",
       "      <td>NaN</td>\n",
       "      <td>NaN</td>\n",
       "      <td>NaN</td>\n",
       "      <td>NaN</td>\n",
       "      <td>NaN</td>\n",
       "      <td>0.006836</td>\n",
       "      <td>NaN</td>\n",
       "      <td>...</td>\n",
       "      <td>0.304894</td>\n",
       "      <td>0.014938</td>\n",
       "      <td>0.146457</td>\n",
       "      <td>0.093441</td>\n",
       "      <td>NaN</td>\n",
       "      <td>0.357895</td>\n",
       "      <td>25.006762</td>\n",
       "      <td>NaN</td>\n",
       "      <td>3.426721</td>\n",
       "      <td>NaN</td>\n",
       "    </tr>\n",
       "  </tbody>\n",
       "</table>\n",
       "<p>5 rows × 775 columns</p>\n",
       "</div>"
      ],
      "text/plain": [
       "sitc    0011  0012      0013  0014  0015       0111      0112      0113  \\\n",
       "origin                                                                    \n",
       "ABW      NaN   NaN       NaN   NaN   NaN   0.000189       NaN  0.008223   \n",
       "AFG      NaN   NaN       NaN   NaN   NaN   0.176481  0.066896       NaN   \n",
       "AGO      NaN   NaN  0.000012   NaN   NaN   0.001756       NaN       NaN   \n",
       "AIA      NaN   NaN       NaN   NaN   NaN  15.716737  6.270237       NaN   \n",
       "ALB      NaN   NaN       NaN   NaN   NaN        NaN       NaN       NaN   \n",
       "\n",
       "sitc        0114  0115   ...         8994      8996      8997      8998  \\\n",
       "origin                   ...                                              \n",
       "ABW          NaN   NaN   ...          NaN  0.009006  0.000910  0.006053   \n",
       "AFG          NaN   NaN   ...          NaN  0.067773  0.782384       NaN   \n",
       "AGO          NaN   NaN   ...          NaN       NaN       NaN  0.000137   \n",
       "AIA          NaN   NaN   ...          NaN       NaN       NaN       NaN   \n",
       "ALB     0.006836   NaN   ...     0.304894  0.014938  0.146457  0.093441   \n",
       "\n",
       "sitc        8999      9310       9410  9510      9610     9710  \n",
       "origin                                                          \n",
       "ABW     0.001468  1.264113   0.104766   NaN       NaN  0.76756  \n",
       "AFG          NaN  0.066374        NaN   NaN       NaN      NaN  \n",
       "AGO          NaN  0.026715        NaN   NaN  0.005944      NaN  \n",
       "AIA     0.649915  6.906314        NaN   NaN       NaN      NaN  \n",
       "ALB          NaN  0.357895  25.006762   NaN  3.426721      NaN  \n",
       "\n",
       "[5 rows x 775 columns]"
      ]
     },
     "execution_count": 24,
     "metadata": {},
     "output_type": "execute_result"
    }
   ],
   "source": [
    "rca[2000].head()"
   ]
  },
  {
   "cell_type": "markdown",
   "metadata": {},
   "source": [
    "### Exercise 6: How can we use ``rca`` to compute the ``mcp`` matrix?"
   ]
  },
  {
   "cell_type": "code",
   "execution_count": 25,
   "metadata": {
    "collapsed": true
   },
   "outputs": [],
   "source": [
    "#-Generate Yearly Binary Mcp Matrices-#\n",
    "mcp = {}\n",
    "for year in rca.keys():\n",
    "    mcp[year] = rca[year].fillna(0.0).applymap(lambda x: 1 if x >= 1.0 else 0.0)"
   ]
  },
  {
   "cell_type": "markdown",
   "metadata": {},
   "source": [
    "<button data-toggle=\"collapse\" data-target=\"#sol7\" class='btn btn-primary'>Solution</button>\n",
    "<div id=\"sol7\" class=\"collapse\">\n",
    "```python\n",
    "#-Generate Yearly Binary Mcp Matrices-#\n",
    "mcp = {}\n",
    "for year in rca.keys():\n",
    "    mcp[year] = rca[year].fillna(0.0).applymap(lambda x: 1 if x >= 1.0 else 0.0)\n",
    "```"
   ]
  },
  {
   "cell_type": "markdown",
   "metadata": {},
   "source": [
    "### Question: What is the key assumption implied by the above code?"
   ]
  },
  {
   "cell_type": "code",
   "execution_count": 26,
   "metadata": {},
   "outputs": [
    {
     "data": {
      "text/html": [
       "<div>\n",
       "<style>\n",
       "    .dataframe thead tr:only-child th {\n",
       "        text-align: right;\n",
       "    }\n",
       "\n",
       "    .dataframe thead th {\n",
       "        text-align: left;\n",
       "    }\n",
       "\n",
       "    .dataframe tbody tr th {\n",
       "        vertical-align: top;\n",
       "    }\n",
       "</style>\n",
       "<table border=\"1\" class=\"dataframe\">\n",
       "  <thead>\n",
       "    <tr style=\"text-align: right;\">\n",
       "      <th>sitc</th>\n",
       "      <th>0011</th>\n",
       "      <th>0012</th>\n",
       "      <th>0013</th>\n",
       "      <th>0014</th>\n",
       "      <th>0015</th>\n",
       "      <th>0111</th>\n",
       "      <th>0112</th>\n",
       "      <th>0113</th>\n",
       "      <th>0114</th>\n",
       "      <th>0115</th>\n",
       "      <th>...</th>\n",
       "      <th>8994</th>\n",
       "      <th>8996</th>\n",
       "      <th>8997</th>\n",
       "      <th>8998</th>\n",
       "      <th>8999</th>\n",
       "      <th>9310</th>\n",
       "      <th>9410</th>\n",
       "      <th>9510</th>\n",
       "      <th>9610</th>\n",
       "      <th>9710</th>\n",
       "    </tr>\n",
       "    <tr>\n",
       "      <th>origin</th>\n",
       "      <th></th>\n",
       "      <th></th>\n",
       "      <th></th>\n",
       "      <th></th>\n",
       "      <th></th>\n",
       "      <th></th>\n",
       "      <th></th>\n",
       "      <th></th>\n",
       "      <th></th>\n",
       "      <th></th>\n",
       "      <th></th>\n",
       "      <th></th>\n",
       "      <th></th>\n",
       "      <th></th>\n",
       "      <th></th>\n",
       "      <th></th>\n",
       "      <th></th>\n",
       "      <th></th>\n",
       "      <th></th>\n",
       "      <th></th>\n",
       "      <th></th>\n",
       "    </tr>\n",
       "  </thead>\n",
       "  <tbody>\n",
       "    <tr>\n",
       "      <th>ABW</th>\n",
       "      <td>0.0</td>\n",
       "      <td>0.0</td>\n",
       "      <td>0.0</td>\n",
       "      <td>0.0</td>\n",
       "      <td>0.0</td>\n",
       "      <td>0.0</td>\n",
       "      <td>0.0</td>\n",
       "      <td>0.0</td>\n",
       "      <td>0.0</td>\n",
       "      <td>0.0</td>\n",
       "      <td>...</td>\n",
       "      <td>0.0</td>\n",
       "      <td>0.0</td>\n",
       "      <td>0.0</td>\n",
       "      <td>0.0</td>\n",
       "      <td>0.0</td>\n",
       "      <td>1.0</td>\n",
       "      <td>0.0</td>\n",
       "      <td>0.0</td>\n",
       "      <td>0.0</td>\n",
       "      <td>0.0</td>\n",
       "    </tr>\n",
       "    <tr>\n",
       "      <th>AFG</th>\n",
       "      <td>0.0</td>\n",
       "      <td>0.0</td>\n",
       "      <td>0.0</td>\n",
       "      <td>0.0</td>\n",
       "      <td>0.0</td>\n",
       "      <td>0.0</td>\n",
       "      <td>0.0</td>\n",
       "      <td>0.0</td>\n",
       "      <td>0.0</td>\n",
       "      <td>0.0</td>\n",
       "      <td>...</td>\n",
       "      <td>0.0</td>\n",
       "      <td>0.0</td>\n",
       "      <td>0.0</td>\n",
       "      <td>0.0</td>\n",
       "      <td>0.0</td>\n",
       "      <td>0.0</td>\n",
       "      <td>0.0</td>\n",
       "      <td>0.0</td>\n",
       "      <td>0.0</td>\n",
       "      <td>0.0</td>\n",
       "    </tr>\n",
       "    <tr>\n",
       "      <th>AGO</th>\n",
       "      <td>0.0</td>\n",
       "      <td>0.0</td>\n",
       "      <td>0.0</td>\n",
       "      <td>0.0</td>\n",
       "      <td>0.0</td>\n",
       "      <td>0.0</td>\n",
       "      <td>0.0</td>\n",
       "      <td>0.0</td>\n",
       "      <td>0.0</td>\n",
       "      <td>0.0</td>\n",
       "      <td>...</td>\n",
       "      <td>0.0</td>\n",
       "      <td>0.0</td>\n",
       "      <td>0.0</td>\n",
       "      <td>0.0</td>\n",
       "      <td>0.0</td>\n",
       "      <td>0.0</td>\n",
       "      <td>0.0</td>\n",
       "      <td>0.0</td>\n",
       "      <td>0.0</td>\n",
       "      <td>0.0</td>\n",
       "    </tr>\n",
       "    <tr>\n",
       "      <th>AIA</th>\n",
       "      <td>0.0</td>\n",
       "      <td>0.0</td>\n",
       "      <td>0.0</td>\n",
       "      <td>0.0</td>\n",
       "      <td>0.0</td>\n",
       "      <td>1.0</td>\n",
       "      <td>1.0</td>\n",
       "      <td>0.0</td>\n",
       "      <td>0.0</td>\n",
       "      <td>0.0</td>\n",
       "      <td>...</td>\n",
       "      <td>0.0</td>\n",
       "      <td>0.0</td>\n",
       "      <td>0.0</td>\n",
       "      <td>0.0</td>\n",
       "      <td>0.0</td>\n",
       "      <td>1.0</td>\n",
       "      <td>0.0</td>\n",
       "      <td>0.0</td>\n",
       "      <td>0.0</td>\n",
       "      <td>0.0</td>\n",
       "    </tr>\n",
       "    <tr>\n",
       "      <th>ALB</th>\n",
       "      <td>0.0</td>\n",
       "      <td>0.0</td>\n",
       "      <td>0.0</td>\n",
       "      <td>0.0</td>\n",
       "      <td>0.0</td>\n",
       "      <td>0.0</td>\n",
       "      <td>0.0</td>\n",
       "      <td>0.0</td>\n",
       "      <td>0.0</td>\n",
       "      <td>0.0</td>\n",
       "      <td>...</td>\n",
       "      <td>0.0</td>\n",
       "      <td>0.0</td>\n",
       "      <td>0.0</td>\n",
       "      <td>0.0</td>\n",
       "      <td>0.0</td>\n",
       "      <td>0.0</td>\n",
       "      <td>1.0</td>\n",
       "      <td>0.0</td>\n",
       "      <td>1.0</td>\n",
       "      <td>0.0</td>\n",
       "    </tr>\n",
       "  </tbody>\n",
       "</table>\n",
       "<p>5 rows × 775 columns</p>\n",
       "</div>"
      ],
      "text/plain": [
       "sitc    0011  0012  0013  0014  0015  0111  0112  0113  0114  0115  ...   \\\n",
       "origin                                                              ...    \n",
       "ABW      0.0   0.0   0.0   0.0   0.0   0.0   0.0   0.0   0.0   0.0  ...    \n",
       "AFG      0.0   0.0   0.0   0.0   0.0   0.0   0.0   0.0   0.0   0.0  ...    \n",
       "AGO      0.0   0.0   0.0   0.0   0.0   0.0   0.0   0.0   0.0   0.0  ...    \n",
       "AIA      0.0   0.0   0.0   0.0   0.0   1.0   1.0   0.0   0.0   0.0  ...    \n",
       "ALB      0.0   0.0   0.0   0.0   0.0   0.0   0.0   0.0   0.0   0.0  ...    \n",
       "\n",
       "sitc    8994  8996  8997  8998  8999  9310  9410  9510  9610  9710  \n",
       "origin                                                              \n",
       "ABW      0.0   0.0   0.0   0.0   0.0   1.0   0.0   0.0   0.0   0.0  \n",
       "AFG      0.0   0.0   0.0   0.0   0.0   0.0   0.0   0.0   0.0   0.0  \n",
       "AGO      0.0   0.0   0.0   0.0   0.0   0.0   0.0   0.0   0.0   0.0  \n",
       "AIA      0.0   0.0   0.0   0.0   0.0   1.0   0.0   0.0   0.0   0.0  \n",
       "ALB      0.0   0.0   0.0   0.0   0.0   0.0   1.0   0.0   1.0   0.0  \n",
       "\n",
       "[5 rows x 775 columns]"
      ]
     },
     "execution_count": 26,
     "metadata": {},
     "output_type": "execute_result"
    }
   ],
   "source": [
    "mcp[2000].head()"
   ]
  },
  {
   "cell_type": "markdown",
   "metadata": {},
   "source": [
    "### Question 6: What products did Australia (\"AUS\") export with RCA in 1998?"
   ]
  },
  {
   "cell_type": "code",
   "execution_count": null,
   "metadata": {
    "collapsed": true,
    "scrolled": true
   },
   "outputs": [],
   "source": []
  },
  {
   "cell_type": "markdown",
   "metadata": {},
   "source": [
    "<button data-toggle=\"collapse\" data-target=\"#sol8\" class='btn btn-primary'>Solution</button>\n",
    "<div id=\"sol8\" class=\"collapse\">\n",
    "```python\n",
    "products = mcp[1998].loc['AUS']\n",
    "products[products == 1.0]\n",
    "```"
   ]
  },
  {
   "cell_type": "markdown",
   "metadata": {},
   "source": [
    "--------------\n",
    "\n",
    "## Computing Proximity Matrix $\\phi_{ij}$\n",
    "\n",
    "$$\n",
    "\\phi_{ij} = \\min \\{ P(RCA_i | RCA_j), P(RCA_j | RCA_i) \\}\n",
    "$$\n",
    "\n",
    "The minimum **conditional probability of coexport** can be computed:\n",
    "\n",
    "$$\n",
    "\\phi_{ij} = \\frac{\\sum_c \\{ M_{cp_i} * M_{cp_j} \\}}{max \\{k_{p_i}, k_{p_j}\\}}\n",
    "$$\n",
    "\n",
    "where,\n",
    "\n",
    "1. $k_{p_i}$ is the ubiquity of product $i$ (i.e. the number of countries that export product $i$)\n",
    "2. $k_{p_j}$ is the ubiquity of product $j$ (i.e. the number of countries that export product $j$)\n",
    "2. $M_{cp_i}$ is the column vector in $M_{cp}$ matrix for product $i$\n",
    "3. $M_{cp_j}$ is the column vector in $M_{cp}$ matrix for product $j$\n",
    "4. $\\sum_c \\{ M_{cp_i} * M_{cp_j} \\}$ is the number of countries that export both product $i$ and product $j$\n",
    "\n",
    "The $\\phi_{ij}$ matrix is therefore computed through all pairwise combinations of column vectors which is computationally intensive."
   ]
  },
  {
   "cell_type": "markdown",
   "metadata": {},
   "source": [
    "#### Compute Proximity Matrix using Pandas"
   ]
  },
  {
   "cell_type": "code",
   "execution_count": 27,
   "metadata": {
    "collapsed": true
   },
   "outputs": [],
   "source": [
    "def proximity_matrix_pandas(mcp, fillna=True):\n",
    "    products = sorted(list(mcp.columns))\n",
    "    sum_products = mcp.sum(axis=0)\n",
    "    proximity = pd.DataFrame(index=products, columns=products)\n",
    "    for product1 in products:\n",
    "        for product2 in products:\n",
    "            numerator = (mcp[product1] * mcp[product2]).sum()\n",
    "            denominator = max(sum_products[product1], sum_products[product2])\n",
    "            if denominator == 0:\n",
    "                cond_prob =  np.nan\n",
    "            else:\n",
    "                cond_prob = numerator / denominator\n",
    "            proximity.set_value(index=product1, col=product2, value=cond_prob)\n",
    "    if fillna:\n",
    "        proximity = proximity.fillna(0.0)\n",
    "    return proximity"
   ]
  },
  {
   "cell_type": "code",
   "execution_count": 28,
   "metadata": {},
   "outputs": [
    {
     "name": "stdout",
     "output_type": "stream",
     "text": [
      "CPU times: user 2min 4s, sys: 1.17 s, total: 2min 5s\n",
      "Wall time: 2min 4s\n"
     ]
    }
   ],
   "source": [
    "%%time\n",
    "prox_2000 = proximity_matrix_pandas(mcp[2000])"
   ]
  },
  {
   "cell_type": "markdown",
   "metadata": {},
   "source": [
    "#### Check the Data (simple stats and visualizations)\n",
    "\n",
    "Hidalgo (2007) suggests that 32% of values are < 0.1 and 65% of values are < 0.2"
   ]
  },
  {
   "cell_type": "code",
   "execution_count": 29,
   "metadata": {},
   "outputs": [
    {
     "data": {
      "text/plain": [
       "count    600625.000000\n",
       "mean          0.159894\n",
       "std           0.106652\n",
       "min           0.000000\n",
       "25%           0.081081\n",
       "50%           0.142857\n",
       "75%           0.222222\n",
       "max           1.000000\n",
       "dtype: float64"
      ]
     },
     "execution_count": 29,
     "metadata": {},
     "output_type": "execute_result"
    }
   ],
   "source": [
    "prox_2000.unstack().describe()"
   ]
  },
  {
   "cell_type": "code",
   "execution_count": 30,
   "metadata": {},
   "outputs": [
    {
     "data": {
      "text/plain": [
       "<matplotlib.axes._subplots.AxesSubplot at 0x7efc1b82ecf8>"
      ]
     },
     "execution_count": 30,
     "metadata": {},
     "output_type": "execute_result"
    },
    {
     "data": {
      "image/png": "[encoded data removed]",
      "text/plain": [
       "<matplotlib.figure.Figure at 0x7efc1b840e48>"
      ]
     },
     "metadata": {},
     "output_type": "display_data"
    }
   ],
   "source": [
    "prox_2000.unstack().hist()"
   ]
  },
  {
   "cell_type": "markdown",
   "metadata": {},
   "source": [
    "## But Wait - Problem!\n",
    "\n",
    "at **~2 minutes** this is taking a long time to compute for one year.  This makes working with this data in an agile way problematic and computing for 50 years would take ~2 hours to compute. While this was easy to implement, it isn't very fast!\n",
    "\n",
    "Let's **profile** this code to get an understanding where we spend most of our time\n",
    "\n",
    "For this line to run you will need to install ``line_profiler`` by running:\n",
    "\n",
    "```bash\n",
    "conda install line_profiler\n",
    "```"
   ]
  },
  {
   "cell_type": "code",
   "execution_count": 31,
   "metadata": {
    "collapsed": true
   },
   "outputs": [],
   "source": [
    "import line_profiler\n",
    "%load_ext line_profiler"
   ]
  },
  {
   "cell_type": "code",
   "execution_count": 32,
   "metadata": {},
   "outputs": [
    {
     "name": "stdout",
     "output_type": "stream",
     "text": [
      "*** KeyboardInterrupt exception caught in code being profiled."
     ]
    }
   ],
   "source": [
    "%lprun -f proximity_matrix_pandas proximity_matrix_pandas(mcp[2000])"
   ]
  },
  {
   "cell_type": "markdown",
   "metadata": {},
   "source": [
    "## Step 1: Consider the Computation\n",
    "\n",
    "Thinking about the details of the computation, the proximity matrix is symmetric because of the ``max`` condition in the denominator. Therefore we can reduce the redundant computation by computing only half of the matrix and using those values for both $i, j$ pairs.\n",
    "\n",
    "Because product1 and product2 are string objects we will need some way of keeping track of our position when filling in the matrix values. \n",
    "\n",
    "This can be done using ``enumerate``\n",
    "\n",
    "This will **half** the computation time."
   ]
  },
  {
   "cell_type": "code",
   "execution_count": 33,
   "metadata": {
    "collapsed": true
   },
   "outputs": [],
   "source": [
    "def proximity_matrix_pandas_symmetry(mcp, fillna=True):\n",
    "    products = sorted(list(mcp.columns))\n",
    "    sum_products = mcp.sum(axis=0)\n",
    "    proximity = pd.DataFrame(index=products, columns=products)\n",
    "    for idx1, product1 in enumerate(products):\n",
    "        for idx2, product2 in enumerate(products):\n",
    "            if idx2 > idx1:  #Symmetric Matrix Condition\n",
    "                continue\n",
    "            numerator = (mcp[product1] * mcp[product2]).sum()\n",
    "            denominator = max(sum_products[product1], sum_products[product2])\n",
    "            if denominator == 0:\n",
    "                cond_prob =  np.nan\n",
    "            else:\n",
    "                cond_prob = numerator / denominator\n",
    "            proximity.set_value(index=product1, col=product2, value=cond_prob)\n",
    "            proximity.set_value(index=product2, col=product1, value=cond_prob)\n",
    "    if fillna:\n",
    "        proximity = proximity.fillna(0.0)\n",
    "    return proximity"
   ]
  },
  {
   "cell_type": "code",
   "execution_count": 34,
   "metadata": {},
   "outputs": [
    {
     "ename": "KeyboardInterrupt",
     "evalue": "",
     "output_type": "error",
     "traceback": [
      "\u001b[0;31m---------------------------------------------------------------------------\u001b[0m",
      "\u001b[0;31mKeyboardInterrupt\u001b[0m                         Traceback (most recent call last)",
      "\u001b[0;32m<ipython-input-34-fc228d8c852f>\u001b[0m in \u001b[0;36m<module>\u001b[0;34m()\u001b[0m\n\u001b[0;32m----> 1\u001b[0;31m \u001b[0mget_ipython\u001b[0m\u001b[0;34m(\u001b[0m\u001b[0;34m)\u001b[0m\u001b[0;34m.\u001b[0m\u001b[0mrun_cell_magic\u001b[0m\u001b[0;34m(\u001b[0m\u001b[0;34m'time'\u001b[0m\u001b[0;34m,\u001b[0m \u001b[0;34m''\u001b[0m\u001b[0;34m,\u001b[0m \u001b[0;34m'prox_2000_symmetry = proximity_matrix_pandas_symmetry(mcp[2000])'\u001b[0m\u001b[0;34m)\u001b[0m\u001b[0;34m\u001b[0m\u001b[0m\n\u001b[0m",
      "\u001b[0;32m/home/mmcky/anaconda3/lib/python3.6/site-packages/IPython/core/interactiveshell.py\u001b[0m in \u001b[0;36mrun_cell_magic\u001b[0;34m(self, magic_name, line, cell)\u001b[0m\n\u001b[1;32m   2113\u001b[0m             \u001b[0mmagic_arg_s\u001b[0m \u001b[0;34m=\u001b[0m \u001b[0mself\u001b[0m\u001b[0;34m.\u001b[0m\u001b[0mvar_expand\u001b[0m\u001b[0;34m(\u001b[0m\u001b[0mline\u001b[0m\u001b[0;34m,\u001b[0m \u001b[0mstack_depth\u001b[0m\u001b[0;34m)\u001b[0m\u001b[0;34m\u001b[0m\u001b[0m\n\u001b[1;32m   2114\u001b[0m             \u001b[0;32mwith\u001b[0m \u001b[0mself\u001b[0m\u001b[0;34m.\u001b[0m\u001b[0mbuiltin_trap\u001b[0m\u001b[0;34m:\u001b[0m\u001b[0;34m\u001b[0m\u001b[0m\n\u001b[0;32m-> 2115\u001b[0;31m                 \u001b[0mresult\u001b[0m \u001b[0;34m=\u001b[0m \u001b[0mfn\u001b[0m\u001b[0;34m(\u001b[0m\u001b[0mmagic_arg_s\u001b[0m\u001b[0;34m,\u001b[0m \u001b[0mcell\u001b[0m\u001b[0;34m)\u001b[0m\u001b[0;34m\u001b[0m\u001b[0m\n\u001b[0m\u001b[1;32m   2116\u001b[0m             \u001b[0;32mreturn\u001b[0m \u001b[0mresult\u001b[0m\u001b[0;34m\u001b[0m\u001b[0m\n\u001b[1;32m   2117\u001b[0m \u001b[0;34m\u001b[0m\u001b[0m\n",
      "\u001b[0;32m<decorator-gen-59>\u001b[0m in \u001b[0;36mtime\u001b[0;34m(self, line, cell, local_ns)\u001b[0m\n",
      "\u001b[0;32m/home/mmcky/anaconda3/lib/python3.6/site-packages/IPython/core/magic.py\u001b[0m in \u001b[0;36m<lambda>\u001b[0;34m(f, *a, **k)\u001b[0m\n\u001b[1;32m    186\u001b[0m     \u001b[0;31m# but it's overkill for just that one bit of state.\u001b[0m\u001b[0;34m\u001b[0m\u001b[0;34m\u001b[0m\u001b[0m\n\u001b[1;32m    187\u001b[0m     \u001b[0;32mdef\u001b[0m \u001b[0mmagic_deco\u001b[0m\u001b[0;34m(\u001b[0m\u001b[0marg\u001b[0m\u001b[0;34m)\u001b[0m\u001b[0;34m:\u001b[0m\u001b[0;34m\u001b[0m\u001b[0m\n\u001b[0;32m--> 188\u001b[0;31m         \u001b[0mcall\u001b[0m \u001b[0;34m=\u001b[0m \u001b[0;32mlambda\u001b[0m \u001b[0mf\u001b[0m\u001b[0;34m,\u001b[0m \u001b[0;34m*\u001b[0m\u001b[0ma\u001b[0m\u001b[0;34m,\u001b[0m \u001b[0;34m**\u001b[0m\u001b[0mk\u001b[0m\u001b[0;34m:\u001b[0m \u001b[0mf\u001b[0m\u001b[0;34m(\u001b[0m\u001b[0;34m*\u001b[0m\u001b[0ma\u001b[0m\u001b[0;34m,\u001b[0m \u001b[0;34m**\u001b[0m\u001b[0mk\u001b[0m\u001b[0;34m)\u001b[0m\u001b[0;34m\u001b[0m\u001b[0m\n\u001b[0m\u001b[1;32m    189\u001b[0m \u001b[0;34m\u001b[0m\u001b[0m\n\u001b[1;32m    190\u001b[0m         \u001b[0;32mif\u001b[0m \u001b[0mcallable\u001b[0m\u001b[0;34m(\u001b[0m\u001b[0marg\u001b[0m\u001b[0;34m)\u001b[0m\u001b[0;34m:\u001b[0m\u001b[0;34m\u001b[0m\u001b[0m\n",
      "\u001b[0;32m/home/mmcky/anaconda3/lib/python3.6/site-packages/IPython/core/magics/execution.py\u001b[0m in \u001b[0;36mtime\u001b[0;34m(self, line, cell, local_ns)\u001b[0m\n\u001b[1;32m   1183\u001b[0m         \u001b[0;32melse\u001b[0m\u001b[0;34m:\u001b[0m\u001b[0;34m\u001b[0m\u001b[0m\n\u001b[1;32m   1184\u001b[0m             \u001b[0mst\u001b[0m \u001b[0;34m=\u001b[0m \u001b[0mclock2\u001b[0m\u001b[0;34m(\u001b[0m\u001b[0;34m)\u001b[0m\u001b[0;34m\u001b[0m\u001b[0m\n\u001b[0;32m-> 1185\u001b[0;31m             \u001b[0mexec\u001b[0m\u001b[0;34m(\u001b[0m\u001b[0mcode\u001b[0m\u001b[0;34m,\u001b[0m \u001b[0mglob\u001b[0m\u001b[0;34m,\u001b[0m \u001b[0mlocal_ns\u001b[0m\u001b[0;34m)\u001b[0m\u001b[0;34m\u001b[0m\u001b[0m\n\u001b[0m\u001b[1;32m   1186\u001b[0m             \u001b[0mend\u001b[0m \u001b[0;34m=\u001b[0m \u001b[0mclock2\u001b[0m\u001b[0;34m(\u001b[0m\u001b[0;34m)\u001b[0m\u001b[0;34m\u001b[0m\u001b[0m\n\u001b[1;32m   1187\u001b[0m             \u001b[0mout\u001b[0m \u001b[0;34m=\u001b[0m \u001b[0;32mNone\u001b[0m\u001b[0;34m\u001b[0m\u001b[0m\n",
      "\u001b[0;32m<timed exec>\u001b[0m in \u001b[0;36m<module>\u001b[0;34m()\u001b[0m\n",
      "\u001b[0;32m<ipython-input-33-d2cbaaeea88a>\u001b[0m in \u001b[0;36mproximity_matrix_pandas_symmetry\u001b[0;34m(mcp, fillna)\u001b[0m\n\u001b[1;32m      7\u001b[0m             \u001b[0;32mif\u001b[0m \u001b[0midx2\u001b[0m \u001b[0;34m>\u001b[0m \u001b[0midx1\u001b[0m\u001b[0;34m:\u001b[0m  \u001b[0;31m#Symmetric Matrix Condition\u001b[0m\u001b[0;34m\u001b[0m\u001b[0m\n\u001b[1;32m      8\u001b[0m                 \u001b[0;32mcontinue\u001b[0m\u001b[0;34m\u001b[0m\u001b[0m\n\u001b[0;32m----> 9\u001b[0;31m             \u001b[0mnumerator\u001b[0m \u001b[0;34m=\u001b[0m \u001b[0;34m(\u001b[0m\u001b[0mmcp\u001b[0m\u001b[0;34m[\u001b[0m\u001b[0mproduct1\u001b[0m\u001b[0;34m]\u001b[0m \u001b[0;34m*\u001b[0m \u001b[0mmcp\u001b[0m\u001b[0;34m[\u001b[0m\u001b[0mproduct2\u001b[0m\u001b[0;34m]\u001b[0m\u001b[0;34m)\u001b[0m\u001b[0;34m.\u001b[0m\u001b[0msum\u001b[0m\u001b[0;34m(\u001b[0m\u001b[0;34m)\u001b[0m\u001b[0;34m\u001b[0m\u001b[0m\n\u001b[0m\u001b[1;32m     10\u001b[0m             \u001b[0mdenominator\u001b[0m \u001b[0;34m=\u001b[0m \u001b[0mmax\u001b[0m\u001b[0;34m(\u001b[0m\u001b[0msum_products\u001b[0m\u001b[0;34m[\u001b[0m\u001b[0mproduct1\u001b[0m\u001b[0;34m]\u001b[0m\u001b[0;34m,\u001b[0m \u001b[0msum_products\u001b[0m\u001b[0;34m[\u001b[0m\u001b[0mproduct2\u001b[0m\u001b[0;34m]\u001b[0m\u001b[0;34m)\u001b[0m\u001b[0;34m\u001b[0m\u001b[0m\n\u001b[1;32m     11\u001b[0m             \u001b[0;32mif\u001b[0m \u001b[0mdenominator\u001b[0m \u001b[0;34m==\u001b[0m \u001b[0;36m0\u001b[0m\u001b[0;34m:\u001b[0m\u001b[0;34m\u001b[0m\u001b[0m\n",
      "\u001b[0;32m/home/mmcky/anaconda3/lib/python3.6/site-packages/pandas/core/ops.py\u001b[0m in \u001b[0;36mwrapper\u001b[0;34m(left, right, name, na_op)\u001b[0m\n\u001b[1;32m    700\u001b[0m         \u001b[0mleft\u001b[0m\u001b[0;34m,\u001b[0m \u001b[0mright\u001b[0m \u001b[0;34m=\u001b[0m \u001b[0m_align_method_SERIES\u001b[0m\u001b[0;34m(\u001b[0m\u001b[0mleft\u001b[0m\u001b[0;34m,\u001b[0m \u001b[0mright\u001b[0m\u001b[0;34m)\u001b[0m\u001b[0;34m\u001b[0m\u001b[0m\n\u001b[1;32m    701\u001b[0m \u001b[0;34m\u001b[0m\u001b[0m\n\u001b[0;32m--> 702\u001b[0;31m         \u001b[0mconverted\u001b[0m \u001b[0;34m=\u001b[0m \u001b[0m_Op\u001b[0m\u001b[0;34m.\u001b[0m\u001b[0mget_op\u001b[0m\u001b[0;34m(\u001b[0m\u001b[0mleft\u001b[0m\u001b[0;34m,\u001b[0m \u001b[0mright\u001b[0m\u001b[0;34m,\u001b[0m \u001b[0mname\u001b[0m\u001b[0;34m,\u001b[0m \u001b[0mna_op\u001b[0m\u001b[0;34m)\u001b[0m\u001b[0;34m\u001b[0m\u001b[0m\n\u001b[0m\u001b[1;32m    703\u001b[0m \u001b[0;34m\u001b[0m\u001b[0m\n\u001b[1;32m    704\u001b[0m         \u001b[0mleft\u001b[0m\u001b[0;34m,\u001b[0m \u001b[0mright\u001b[0m \u001b[0;34m=\u001b[0m \u001b[0mconverted\u001b[0m\u001b[0;34m.\u001b[0m\u001b[0mleft\u001b[0m\u001b[0;34m,\u001b[0m \u001b[0mconverted\u001b[0m\u001b[0;34m.\u001b[0m\u001b[0mright\u001b[0m\u001b[0;34m\u001b[0m\u001b[0m\n",
      "\u001b[0;32m/home/mmcky/anaconda3/lib/python3.6/site-packages/pandas/core/ops.py\u001b[0m in \u001b[0;36mget_op\u001b[0;34m(cls, left, right, name, na_op)\u001b[0m\n\u001b[1;32m    325\u001b[0m         \u001b[0mnormal\u001b[0m \u001b[0mnumpy\u001b[0m \u001b[0mpath\u001b[0m\u001b[0;34m.\u001b[0m\u001b[0;34m\u001b[0m\u001b[0m\n\u001b[1;32m    326\u001b[0m         \"\"\"\n\u001b[0;32m--> 327\u001b[0;31m         \u001b[0mis_timedelta_lhs\u001b[0m \u001b[0;34m=\u001b[0m \u001b[0mis_timedelta64_dtype\u001b[0m\u001b[0;34m(\u001b[0m\u001b[0mleft\u001b[0m\u001b[0;34m)\u001b[0m\u001b[0;34m\u001b[0m\u001b[0m\n\u001b[0m\u001b[1;32m    328\u001b[0m         is_datetime_lhs = (is_datetime64_dtype(left) or\n\u001b[1;32m    329\u001b[0m                            is_datetime64tz_dtype(left))\n",
      "\u001b[0;32m/home/mmcky/anaconda3/lib/python3.6/site-packages/pandas/core/dtypes/common.py\u001b[0m in \u001b[0;36mis_timedelta64_dtype\u001b[0;34m(arr_or_dtype)\u001b[0m\n\u001b[1;32m    397\u001b[0m     \u001b[0;32mif\u001b[0m \u001b[0marr_or_dtype\u001b[0m \u001b[0;32mis\u001b[0m \u001b[0;32mNone\u001b[0m\u001b[0;34m:\u001b[0m\u001b[0;34m\u001b[0m\u001b[0m\n\u001b[1;32m    398\u001b[0m         \u001b[0;32mreturn\u001b[0m \u001b[0;32mFalse\u001b[0m\u001b[0;34m\u001b[0m\u001b[0m\n\u001b[0;32m--> 399\u001b[0;31m     \u001b[0mtipo\u001b[0m \u001b[0;34m=\u001b[0m \u001b[0m_get_dtype_type\u001b[0m\u001b[0;34m(\u001b[0m\u001b[0marr_or_dtype\u001b[0m\u001b[0;34m)\u001b[0m\u001b[0;34m\u001b[0m\u001b[0m\n\u001b[0m\u001b[1;32m    400\u001b[0m     \u001b[0;32mreturn\u001b[0m \u001b[0missubclass\u001b[0m\u001b[0;34m(\u001b[0m\u001b[0mtipo\u001b[0m\u001b[0;34m,\u001b[0m \u001b[0mnp\u001b[0m\u001b[0;34m.\u001b[0m\u001b[0mtimedelta64\u001b[0m\u001b[0;34m)\u001b[0m\u001b[0;34m\u001b[0m\u001b[0m\n\u001b[1;32m    401\u001b[0m \u001b[0;34m\u001b[0m\u001b[0m\n",
      "\u001b[0;32m/home/mmcky/anaconda3/lib/python3.6/site-packages/pandas/core/dtypes/common.py\u001b[0m in \u001b[0;36m_get_dtype_type\u001b[0;34m(arr_or_dtype)\u001b[0m\n\u001b[1;32m   1745\u001b[0m     \u001b[0;32melif\u001b[0m \u001b[0misinstance\u001b[0m\u001b[0;34m(\u001b[0m\u001b[0marr_or_dtype\u001b[0m\u001b[0;34m,\u001b[0m \u001b[0mPeriodDtype\u001b[0m\u001b[0;34m)\u001b[0m\u001b[0;34m:\u001b[0m\u001b[0;34m\u001b[0m\u001b[0m\n\u001b[1;32m   1746\u001b[0m         \u001b[0;32mreturn\u001b[0m \u001b[0mPeriodDtypeType\u001b[0m\u001b[0;34m\u001b[0m\u001b[0m\n\u001b[0;32m-> 1747\u001b[0;31m     \u001b[0;32melif\u001b[0m \u001b[0misinstance\u001b[0m\u001b[0;34m(\u001b[0m\u001b[0marr_or_dtype\u001b[0m\u001b[0;34m,\u001b[0m \u001b[0mstring_types\u001b[0m\u001b[0;34m)\u001b[0m\u001b[0;34m:\u001b[0m\u001b[0;34m\u001b[0m\u001b[0m\n\u001b[0m\u001b[1;32m   1748\u001b[0m         \u001b[0;32mif\u001b[0m \u001b[0mis_categorical_dtype\u001b[0m\u001b[0;34m(\u001b[0m\u001b[0marr_or_dtype\u001b[0m\u001b[0;34m)\u001b[0m\u001b[0;34m:\u001b[0m\u001b[0;34m\u001b[0m\u001b[0m\n\u001b[1;32m   1749\u001b[0m             \u001b[0;32mreturn\u001b[0m \u001b[0mCategoricalDtypeType\u001b[0m\u001b[0;34m\u001b[0m\u001b[0m\n",
      "\u001b[0;31mKeyboardInterrupt\u001b[0m: "
     ]
    }
   ],
   "source": [
    "%%time\n",
    "prox_2000_symmetry = proximity_matrix_pandas_symmetry(mcp[2000])"
   ]
  },
  {
   "cell_type": "code",
   "execution_count": null,
   "metadata": {},
   "outputs": [],
   "source": [
    "#-Check if the same results as brute force method-#\n",
    "prox_2000.equals(prox_2000_symmetry)"
   ]
  },
  {
   "cell_type": "markdown",
   "metadata": {},
   "source": [
    "## Step 2: Consider other Python Tools (NumPy)\n",
    "\n",
    "Most of the time you will want to conduct **numerical** type computing in NumPy.\n",
    "\n",
    "The code actually looks pretty similar - the main difference is conducting operations on pure numpy arrays"
   ]
  },
  {
   "cell_type": "code",
   "execution_count": null,
   "metadata": {
    "collapsed": true
   },
   "outputs": [],
   "source": [
    "def proximity_matrix_numpy(mcp, fillna=False):\n",
    "    products = sorted(list(mcp.columns))\n",
    "    num_products = len(products)\n",
    "    proximity = np.empty((num_products, num_products))\n",
    "    col_sums = mcp.sum().values  \n",
    "    data = mcp.T.as_matrix()                  #This generates a c x p numpy array\n",
    "    for index1 in range(0,num_products):\n",
    "        for index2 in range(0,num_products):\n",
    "            if index2 > index1:\n",
    "                continue\n",
    "            numerator = (data[index1] * data[index2]).sum()\n",
    "            denominator = max(col_sums[index1], col_sums[index2])\n",
    "            if denominator == 0.0:\n",
    "                cond_prob = np.nan\n",
    "            else:\n",
    "                cond_prob = numerator / denominator\n",
    "            proximity[index1][index2] = cond_prob\n",
    "            proximity[index2][index1] = cond_prob\n",
    "    # Return DataFrame Representation #\n",
    "    proximity = pd.DataFrame(proximity, index=products, columns=products)\n",
    "    proximity.index.name = 'productcode1'\n",
    "    proximity.columns.name = 'productcode2'\n",
    "    if fillna:\n",
    "        proximity = proximity.fillna(0.0)\n",
    "    return proximity"
   ]
  },
  {
   "cell_type": "code",
   "execution_count": null,
   "metadata": {},
   "outputs": [],
   "source": [
    "%%time\n",
    "prox_2000_numpy = proximity_matrix_numpy(mcp[2000])"
   ]
  },
  {
   "cell_type": "code",
   "execution_count": null,
   "metadata": {},
   "outputs": [],
   "source": [
    "prox_2000.equals(prox_2000_numpy)"
   ]
  },
  {
   "cell_type": "markdown",
   "metadata": {},
   "source": [
    "------------------------\n",
    "\n",
    "## Step 3: Just in Time Compilation (Numba)\n",
    "\n",
    "**Numba** is a package you can use to accelerate your code by using a technique called **just in time (or JIT)** compilation. It converts your high-level python code to low level llvm code to run it closer to the raw machine level. \n",
    "\n",
    "``nopython=True`` ensures the ``jit`` compiles without any ``python`` objects. If it cannot achieve this it will throw an error.\n",
    "\n",
    "**Numba** now supports a lot of the ``NumPy`` api and can be checked [here](http://numba.pydata.org/numba-doc/dev/reference/numpysupported.html)"
   ]
  },
  {
   "cell_type": "code",
   "execution_count": null,
   "metadata": {
    "collapsed": true
   },
   "outputs": [],
   "source": [
    "@jit(nopython=True)\n",
    "def coexport_probability(data, num_products, col_sums):\n",
    "    proximity = np.empty((num_products, num_products))\n",
    "    for index1 in range(0,num_products):\n",
    "        for index2 in range(0,num_products):\n",
    "            if index2 > index1:\n",
    "                continue\n",
    "            numerator = (data[index1] * data[index2]).sum()\n",
    "            denominator = max(col_sums[index1], col_sums[index2])\n",
    "            if denominator == 0.0:\n",
    "                cond_prob = np.nan\n",
    "            else:\n",
    "                cond_prob = numerator / denominator\n",
    "            proximity[index1][index2] = cond_prob\n",
    "            proximity[index2][index1] = cond_prob\n",
    "    return proximity\n",
    "\n",
    "def proximity_matrix_numba(mcp, fillna=False):\n",
    "    products = sorted(list(mcp.columns))\n",
    "    num_products = len(products)\n",
    "    col_sums = mcp.sum().values  \n",
    "    data = mcp.T.as_matrix()                  \n",
    "    proximity = coexport_probability(data, num_products, col_sums)   #Call Jit Function\n",
    "    # Return DataFrame Representation #\n",
    "    proximity = pd.DataFrame(proximity, index=products, columns=products)\n",
    "    proximity.index.name = 'productcode1'\n",
    "    proximity.columns.name = 'productcode2'\n",
    "    if fillna:\n",
    "        proximity = proximity.fillna(0.0)\n",
    "    return proximity"
   ]
  },
  {
   "cell_type": "code",
   "execution_count": null,
   "metadata": {
    "collapsed": true
   },
   "outputs": [],
   "source": [
    "prox_2000_numba = proximity_matrix_numba(mcp[2000])"
   ]
  },
  {
   "cell_type": "code",
   "execution_count": null,
   "metadata": {},
   "outputs": [],
   "source": [
    "%%timeit\n",
    "prox_2000_numba = proximity_matrix_numba(mcp[2000])"
   ]
  },
  {
   "cell_type": "code",
   "execution_count": null,
   "metadata": {},
   "outputs": [],
   "source": [
    "prox_2000_numba.equals(prox_2000)"
   ]
  },
  {
   "cell_type": "markdown",
   "metadata": {},
   "source": [
    "### Computing All Years"
   ]
  },
  {
   "cell_type": "code",
   "execution_count": null,
   "metadata": {},
   "outputs": [],
   "source": [
    "%%time\n",
    "proximity = {}\n",
    "for year in mcp.keys():\n",
    "    proximity[year] = proximity_matrix_numba(mcp[year])"
   ]
  },
  {
   "cell_type": "code",
   "execution_count": null,
   "metadata": {},
   "outputs": [],
   "source": [
    "proximity[2000].head()"
   ]
  },
  {
   "cell_type": "markdown",
   "metadata": {},
   "source": [
    "--------------------\n",
    "\n",
    "## Using Dask to Compute all Years in Parallel\n",
    "\n",
    "Now that we have a fast single year computation, we can compute all cross-sections serially using a loop.\n",
    "\n",
    "Alternatively, we can parallelize these operations using ``Dask`` to delay computation and then ask the ``Dask`` scheduler to coordinate the computation over the number of **cores** available to you. This is particularly useful when using ``HS`` data. \n",
    "\n",
    "**Note:** This simple approach to parallelization does have some overhead to coordinate the computations so you won't get a full 4 x speed up when using a 4-core machine. "
   ]
  },
  {
   "cell_type": "code",
   "execution_count": null,
   "metadata": {},
   "outputs": [],
   "source": [
    "import dask\n",
    "from distributed import Client\n",
    "Client()"
   ]
  },
  {
   "cell_type": "code",
   "execution_count": null,
   "metadata": {
    "collapsed": true
   },
   "outputs": [],
   "source": [
    "#-Setup the Computations as a Collection of Tasks-#\n",
    "collection = []\n",
    "for year in sorted(mcp.keys()):\n",
    "    collection.append((year, dask.delayed(proximity_matrix_numba)(mcp[year])))"
   ]
  },
  {
   "cell_type": "code",
   "execution_count": null,
   "metadata": {},
   "outputs": [],
   "source": [
    "%%time\n",
    "#-Compute the Results-#\n",
    "result = dask.compute(*collection)"
   ]
  },
  {
   "cell_type": "code",
   "execution_count": null,
   "metadata": {
    "collapsed": true
   },
   "outputs": [],
   "source": [
    "#-Organise the list of returned tuples into a convenient dictionary-#\n",
    "results = {}\n",
    "for year, df in result:\n",
    "    results[year] = df"
   ]
  },
  {
   "cell_type": "code",
   "execution_count": null,
   "metadata": {},
   "outputs": [],
   "source": [
    "results[2000].equals(prox_2000)"
   ]
  },
  {
   "cell_type": "code",
   "execution_count": null,
   "metadata": {},
   "outputs": [],
   "source": [
    "results[2000].head()"
   ]
  },
  {
   "cell_type": "markdown",
   "metadata": {
    "collapsed": true
   },
   "source": [
    "**Note:** [Dask](https://github.com/dask/dask) does a lot more than this and is worth looking into for medium to large scale computations"
   ]
  },
  {
   "cell_type": "code",
   "execution_count": null,
   "metadata": {
    "collapsed": true
   },
   "outputs": [],
   "source": [
    "#-Save Results into a HDF5 File-#\n",
    "fl = \"data/sitcr2l4_proximity.h5\"\n",
    "store = pd.HDFStore(fl, mode='w')\n",
    "for year in results.keys():\n",
    "    store[\"Y{}\".format(year)] = results[year]"
   ]
  },
  {
   "cell_type": "code",
   "execution_count": null,
   "metadata": {
    "collapsed": true
   },
   "outputs": [],
   "source": [
    "store.close()"
   ]
  },
  {
   "cell_type": "code",
   "execution_count": null,
   "metadata": {},
   "outputs": [],
   "source": [
    "%%html\n",
    "<style>\n",
    "  table {margin-left: 0 !important;}\n",
    "</style>"
   ]
  },
  {
   "cell_type": "markdown",
   "metadata": {},
   "source": [
    "--------------------------\n",
    "\n",
    "## Performance Comparison (SITC and HS Data)\n",
    "\n",
    "For **SITC** Data: (786 Products, 229 Countries, 52 Years)\n",
    "\n",
    "\n",
    "| Function         | Time/Year        | Total Time  | Speedup |\n",
    "|------------------|------------------|-------------|---------|\n",
    "| pandas           | 220 seconds      | ~177 minutes| -       |\n",
    "| pandas_symmetric | 104 seconds      | ~84 minutes | BASE       |\n",
    "| numpy            | 2.5 seconds      | 120 seconds | ~41x    |\n",
    "| numba            | 124 milliseconds | 6 seconds   | ~800x   |\n",
    "| numba + dask     | N/A              | 5 seconds   | -       |\n",
    "\n",
    "\n",
    "\n",
    "For **HS** Data: (5016 Products, 222 Countries, 20 Years)\n",
    "\n",
    "| Function         | Time/Year                    | Total Time | Speedup |\n",
    "|------------------|------------------------------|------------|---------|\n",
    "| pandas           | 1 Hour 25 minutes |      -     | -       |\n",
    "| pandas_symmetric | 43 minutes                   |      -     | BASE       |\n",
    "| numpy            | 1 min 37 seconds             |      -     | ~28x    |\n",
    "| numba            | 5 seconds                    | 1min 45 seconds   | ~516x   |\n",
    "| numba + dask     | N/A                          | 45 seconds      |    -     |\n",
    "\n",
    "These were run on the following **machine:**\n",
    "\n",
    "| Item      | Details          |\n",
    "|-----------|------------------|\n",
    "| Processor | Xeon E5 @ 3.6Ghz |\n",
    "| Cores     | 8                |\n",
    "| RAM       | 32Gb RAM         |\n",
    "| Python    | Python 3.6       |"
   ]
  },
  {
   "cell_type": "markdown",
   "metadata": {},
   "source": [
    "------------------_\n",
    "\n",
    "## (Extension) Preparing Graph Data: Product Space Network\n",
    "\n",
    "Here we will use ``NetworkX`` to construct our version of the Product Space using Python"
   ]
  },
  {
   "cell_type": "code",
   "execution_count": null,
   "metadata": {
    "collapsed": true
   },
   "outputs": [],
   "source": [
    "prox = pd.read_hdf(\"data/sitcr2l4_proximity.h5\", key=\"Y2000\")"
   ]
  },
  {
   "cell_type": "code",
   "execution_count": null,
   "metadata": {},
   "outputs": [],
   "source": [
    "prox.head()"
   ]
  },
  {
   "cell_type": "markdown",
   "metadata": {},
   "source": [
    "#### use pandas to construct and edge list"
   ]
  },
  {
   "cell_type": "code",
   "execution_count": null,
   "metadata": {
    "collapsed": true
   },
   "outputs": [],
   "source": [
    "edge_list = prox.unstack()"
   ]
  },
  {
   "cell_type": "code",
   "execution_count": null,
   "metadata": {},
   "outputs": [],
   "source": [
    "#-Construct Sequence of node pairs as a pd.Series\n",
    "edge_list.head()"
   ]
  },
  {
   "cell_type": "code",
   "execution_count": null,
   "metadata": {
    "collapsed": true
   },
   "outputs": [],
   "source": [
    "#-Remove Self Loops-#\n",
    "edge_list = edge_list[edge_list != 1.0]     #TODO: do this operation properly to compare node1 == node2"
   ]
  },
  {
   "cell_type": "code",
   "execution_count": null,
   "metadata": {},
   "outputs": [],
   "source": [
    "edge_list.head()"
   ]
  },
  {
   "cell_type": "markdown",
   "metadata": {},
   "source": [
    "#### We would like to construct the maximum_spanning_tree, but the current version of networkx supports minimum_spanning_tree so we need to add inv_weight for this computation. "
   ]
  },
  {
   "cell_type": "code",
   "execution_count": null,
   "metadata": {
    "collapsed": true
   },
   "outputs": [],
   "source": [
    "#-Construct DataFrame-#\n",
    "edge_list = edge_list.reset_index()\n",
    "edge_list.columns = [\"P1\",\"P2\",\"weight\"]"
   ]
  },
  {
   "cell_type": "code",
   "execution_count": null,
   "metadata": {
    "collapsed": true
   },
   "outputs": [],
   "source": [
    "edge_list[\"inv_weight\"] = 1 - edge_list['weight']    #Useful when working with minimum spanning tree in networkx"
   ]
  },
  {
   "cell_type": "code",
   "execution_count": null,
   "metadata": {},
   "outputs": [],
   "source": [
    "edge_list.head()"
   ]
  },
  {
   "cell_type": "code",
   "execution_count": null,
   "metadata": {},
   "outputs": [],
   "source": [
    "edge_list[[\"weight\",\"inv_weight\"]].hist();"
   ]
  },
  {
   "cell_type": "markdown",
   "metadata": {},
   "source": [
    "# Network Tools\n",
    "\n",
    "We want to now construct a maximum_spanning_tree and then add in all nodes that are highly connected above a threshold value of ``0.5``"
   ]
  },
  {
   "cell_type": "code",
   "execution_count": null,
   "metadata": {
    "collapsed": true
   },
   "outputs": [],
   "source": [
    "import networkx as nx"
   ]
  },
  {
   "cell_type": "code",
   "execution_count": null,
   "metadata": {},
   "outputs": [],
   "source": [
    "#-Construct the complete network-#\n",
    "g = nx.from_pandas_dataframe(edge_list, source=\"P1\", target=\"P2\", edge_attr=[\"weight\", \"inv_weight\"])\n",
    "print(\"# of Nodes: {}\".format(g.number_of_nodes()))\n",
    "print(\"# of Edges: {}\".format(g.number_of_edges()))"
   ]
  },
  {
   "cell_type": "code",
   "execution_count": null,
   "metadata": {},
   "outputs": [],
   "source": [
    "mst = nx.minimum_spanning_tree(g, weight='inv_weight') #Maximum Spanning Tree\n",
    "print(\"# of Nodes: {}\".format(mst.number_of_nodes()))\n",
    "print(\"# of Edges: {}\".format(mst.number_of_edges()))"
   ]
  },
  {
   "cell_type": "code",
   "execution_count": null,
   "metadata": {},
   "outputs": [],
   "source": [
    "mst[\"0011\"]"
   ]
  },
  {
   "cell_type": "code",
   "execution_count": null,
   "metadata": {
    "collapsed": true
   },
   "outputs": [],
   "source": [
    "#-Build Maximum Spanning Tree + Keep Edges > 0.50-#\n",
    "ps = nx.Graph()\n",
    "#Add MST ('weight' attribute only)\n",
    "for u,v,w in mst.edges_iter(data=True):\n",
    "    ps.add_edge(u,v,attr_dict={'weight' : w[\"weight\"]})\n",
    "#Add Edges > 0.50\n",
    "for u,v,w in g.edges_iter(data=True):\n",
    "    if w['weight'] >= 0.50:\n",
    "        ps.add_edge(u,v,attr_dict={'weight' : w[\"weight\"]})"
   ]
  },
  {
   "cell_type": "code",
   "execution_count": null,
   "metadata": {},
   "outputs": [],
   "source": [
    "print(\"# of Nodes: {}\".format(ps.number_of_nodes()))\n",
    "print(\"# of Edges: {}\".format(ps.number_of_edges()))"
   ]
  },
  {
   "cell_type": "markdown",
   "metadata": {},
   "source": [
    "## Visualizations"
   ]
  },
  {
   "cell_type": "code",
   "execution_count": null,
   "metadata": {
    "collapsed": true
   },
   "outputs": [],
   "source": [
    "ps_nodes = pd.read_csv(\"data/PS_SITC_nodes\", sep=\"\\t\", converters={'sitc' : str},\n",
    "                       names=[\"sitc\", \"community\", \"x\", \"y\", \"nodesize\",\"leamer\",\"pname\",\"ncolor\"])\n",
    "ps_edges = pd.read_csv(\"data/PS_SITC_edges\", sep=\"\\t\", converters={'sourceid' : str, 'targetid' : str},\n",
    "                       names=[\"sourceid\", \"sourcex\", \"sourcey\",\"targetid\",\"targetx\",\"targety\", \"width\",\"color\"])"
   ]
  },
  {
   "cell_type": "code",
   "execution_count": null,
   "metadata": {},
   "outputs": [],
   "source": [
    "ps_nodes.head()"
   ]
  },
  {
   "cell_type": "code",
   "execution_count": null,
   "metadata": {},
   "outputs": [],
   "source": [
    "ps_nodes.shape"
   ]
  },
  {
   "cell_type": "code",
   "execution_count": null,
   "metadata": {
    "collapsed": true
   },
   "outputs": [],
   "source": [
    "def normalize(df, column):\n",
    "    max_value = df[column].max()\n",
    "    min_value = df[column].min()\n",
    "    df[column+\"_scaled\"] = (df[column] - min_value) / (max_value - min_value)\n",
    "    return df"
   ]
  },
  {
   "cell_type": "code",
   "execution_count": null,
   "metadata": {
    "collapsed": true
   },
   "outputs": [],
   "source": [
    "#Preprocess Coordinates to be Normalized between 0,1\n",
    "ps_nodes = normalize(ps_nodes, 'x')\n",
    "ps_nodes = normalize(ps_nodes, 'y')"
   ]
  },
  {
   "cell_type": "code",
   "execution_count": null,
   "metadata": {},
   "outputs": [],
   "source": [
    "ps_nodes.head()"
   ]
  },
  {
   "cell_type": "code",
   "execution_count": null,
   "metadata": {
    "collapsed": true
   },
   "outputs": [],
   "source": [
    "import numpy as np\n",
    "#-Obtain Dictionary of Coordinates-#\n",
    "coord = {}\n",
    "xy = ps_nodes[[\"x_scaled\",\"y_scaled\"]].values\n",
    "for idx, productcode in enumerate(ps_nodes[\"sitc\"]):\n",
    "   coord[productcode] = xy[idx]\n",
    "#-Add Missing Nodes-#\n",
    "coord['6784'] = np.array([0,0])"
   ]
  },
  {
   "cell_type": "code",
   "execution_count": null,
   "metadata": {},
   "outputs": [],
   "source": [
    "coord"
   ]
  },
  {
   "cell_type": "code",
   "execution_count": null,
   "metadata": {},
   "outputs": [],
   "source": [
    "#-Check Entry-#\n",
    "ps_nodes[ps_nodes.sitc == \"0011\"]"
   ]
  },
  {
   "cell_type": "code",
   "execution_count": null,
   "metadata": {},
   "outputs": [],
   "source": [
    "import matplotlib.pyplot as plt\n",
    "fig = plt.figure(figsize=(50,20))\n",
    "ax = fig.gca()\n",
    "nx.draw_networkx(ps, ax=ax, pos=coord, node_size=750, width=1)\n",
    "plt.savefig(\"productspace1.png\")"
   ]
  },
  {
   "cell_type": "markdown",
   "metadata": {},
   "source": [
    "**Note:** File is saved Locally to view the network in greater detail"
   ]
  },
  {
   "cell_type": "code",
   "execution_count": null,
   "metadata": {
    "collapsed": true
   },
   "outputs": [],
   "source": [
    "#-Let's See where Apparel Chapter 84 Nodes are Located-#\n",
    "def choose_color(x):\n",
    "    if x[:2] == \"84\":\n",
    "        return \"b\"\n",
    "    else:\n",
    "        return \"r\"\n",
    "    \n",
    "nodes = pd.DataFrame(sorted(list(coord.keys())), columns=[\"nodeid\"])\n",
    "nodes[\"color\"] = nodes[\"nodeid\"].apply(lambda x: choose_color(x))"
   ]
  },
  {
   "cell_type": "code",
   "execution_count": null,
   "metadata": {},
   "outputs": [],
   "source": [
    "nodes[nodes.color == 'b'].head()"
   ]
  },
  {
   "cell_type": "code",
   "execution_count": null,
   "metadata": {
    "collapsed": true
   },
   "outputs": [],
   "source": [
    "#-Get the Order of Nodes the Same as Network Node List\n",
    "order = pd.DataFrame(ps.nodes()).reset_index()\n",
    "order.columns = [\"order\", \"nodeid\"]\n",
    "nodes = nodes.merge(order, how=\"inner\", on=\"nodeid\")\n",
    "nodes = nodes.sort_values(by=\"order\")"
   ]
  },
  {
   "cell_type": "code",
   "execution_count": null,
   "metadata": {},
   "outputs": [],
   "source": [
    "fig = plt.figure(figsize=(50,20))\n",
    "ax = fig.gca()\n",
    "nx.draw_networkx(ps, ax=ax, pos=coord, node_size=750, width=1, node_color = nodes.color.values, )\n",
    "plt.savefig(\"productspace2.png\")"
   ]
  },
  {
   "cell_type": "code",
   "execution_count": null,
   "metadata": {
    "collapsed": true
   },
   "outputs": [],
   "source": [
    "#Can Output to use with Gephi / Cytoscape (Exploratory Network Tools)\n",
    "nx.write_gml(ps, \"prouduct_space.gml\")   "
   ]
  },
  {
   "cell_type": "markdown",
   "metadata": {},
   "source": [
    "# References\n",
    "\n",
    "[1] Zachary, W. (1977), \"An Information Flow Model for Conflict and Fission in Small Groups\", Journal of Anthropological Research, Vol. 33, No. 4 (Winter, 1977), pp. 452-473\n",
    "\n",
    "[2] Cao, X., Wang X., Jin D., Cao Y. & He, D. (2013), \"Identifying overlapping communities as well as hubs and outliers via nonnegative matrix factorization\", Scientific Reports, Vol 3, Issue 2993\n",
    "\n",
    "[3] Hidalgo, C.A., Klinger, B., Barabasi, A.-L., Hausmann, R. (2007), \"The Product Space Conditions the Development of Nations\", Science, Vol 317, pp 482-487\n",
    "\n",
    "[4] Atlas of Complexity (http://atlas.cid.harvard.edu/)\n",
    "\n",
    "[5] The Observatory of Economic Complexity (http://atlas.media.mit.edu/en/)\n",
    "\n",
    "[6] Atlas of Complexity Gride Points for Nodes sourced from http://www.michelecoscia.com/?page_id=223\n",
    "\n",
    "[7] Balassa, B. (1965), \"Trade Liberalisation and Revealed Comparative Advantage\", The Manchester School, 33, 99-123."
   ]
  },
  {
   "cell_type": "code",
   "execution_count": null,
   "metadata": {
    "collapsed": true
   },
   "outputs": [],
   "source": []
  }
 ],
 "metadata": {
  "kernelspec": {
   "display_name": "Python 3",
   "language": "python",
   "name": "python3"
  },
  "language_info": {
   "codemirror_mode": {
    "name": "ipython",
    "version": 3
   },
   "file_extension": ".py",
   "mimetype": "text/x-python",
   "name": "python",
   "nbconvert_exporter": "python",
   "pygments_lexer": "ipython3",
   "version": "3.6.1"
  }
 },
 "nbformat": 4,
 "nbformat_minor": 2
}
