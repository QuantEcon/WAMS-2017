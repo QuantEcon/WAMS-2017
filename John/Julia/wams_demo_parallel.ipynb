{
 "cells": [
  {
   "cell_type": "markdown",
   "metadata": {},
   "source": [
    "## Recursive Utility Application\n",
    "\n",
    "Prepared for WAMS 2017 by [John Stachurski](http://johnstachurski.net)"
   ]
  },
  {
   "cell_type": "markdown",
   "metadata": {},
   "source": [
    "Let's re-run the `wams_demo` code using parallel programming."
   ]
  },
  {
   "cell_type": "markdown",
   "metadata": {},
   "source": [
    "#### Preliminaries"
   ]
  },
  {
   "cell_type": "code",
   "execution_count": 1,
   "metadata": {},
   "outputs": [
    {
     "data": {
      "text/plain": [
       "5"
      ]
     },
     "execution_count": 1,
     "metadata": {},
     "output_type": "execute_result"
    }
   ],
   "source": [
    "addprocs(4)\n",
    "nprocs()"
   ]
  },
  {
   "cell_type": "code",
   "execution_count": 2,
   "metadata": {
    "collapsed": true
   },
   "outputs": [],
   "source": [
    "@everywhere using QuantEcon"
   ]
  },
  {
   "cell_type": "markdown",
   "metadata": {},
   "source": [
    "\n",
    "Function to compute spectral radius of a matrix."
   ]
  },
  {
   "cell_type": "code",
   "execution_count": 3,
   "metadata": {
    "collapsed": true
   },
   "outputs": [],
   "source": [
    "@everywhere compute_spec_rad(Q::Matrix) = maximum(abs, eigvals(Q))"
   ]
  },
  {
   "cell_type": "markdown",
   "metadata": {},
   "source": [
    "#### Modeling EZ Preferences"
   ]
  },
  {
   "cell_type": "markdown",
   "metadata": {},
   "source": [
    "\n",
    "Epstein-Zin utility specification\n",
    "\n",
    "\n",
    "\\begin{equation*}\n",
    "    V_t = \\left[ \n",
    "            \\zeta C_t^{1-1/\\psi}\n",
    "            + \\beta \\left\\{ R_t \\left(V_{t+1}\n",
    "            \\right) \\right\\}^{1-1/\\psi} \n",
    "          \\right]^{1/(1-1/\\psi)}\n",
    "\\end{equation*}\n",
    "\n",
    "\n",
    "where\n",
    "\n",
    "\\begin{equation*}\n",
    "    R_t(V_{t+1}) \n",
    "    := ( \\mathbb{E}_t  V^{1-\\gamma}_{t+1} )^{1/(1-\\gamma)}\n",
    "\\end{equation*}\n",
    "\n",
    "\n",
    "* $\\beta  \\in (0, 1) =$ time discount factor\n",
    "* $\\gamma$ governs the level of relative risk aversion \n",
    "* $\\psi =$ elasticity of intertemporal substitution"
   ]
  },
  {
   "cell_type": "code",
   "execution_count": 4,
   "metadata": {
    "collapsed": true
   },
   "outputs": [],
   "source": [
    "\n",
    "@everywhere mutable struct EpsteinZin{T <: AbstractFloat}\n",
    "    ψ::T   # Elasticity of intertemporal substitution\n",
    "    γ::T   # Risk aversion parameter\n",
    "    β::T   # Time discount factor\n",
    "    ζ::T   # Preference factor, current consumption\n",
    "    θ::T   # Derived parameter\n",
    "end\n",
    "\n",
    "\n",
    "\n",
    "@everywhere function EpsteinZinBY(; ψ=1.5, γ=10.0, β=0.998)\n",
    "    ζ = 1 - β\n",
    "    θ = (1 - γ) / (1 - 1/ψ)\n",
    "    return EpsteinZin(ψ, γ, β, ζ, θ) \n",
    "end"
   ]
  },
  {
   "cell_type": "markdown",
   "metadata": {},
   "source": [
    "#### Models of Consumption Growth"
   ]
  },
  {
   "cell_type": "markdown",
   "metadata": {},
   "source": [
    "\n",
    "Discretizing the SV model using two iterations of Rouwenhorst.\n",
    "\n",
    "The model is \n",
    "\n",
    "$$    z' = ρ z + s_z σ e' $$\n",
    "\n",
    "$$   (σ^2)' = v σ^2 + d + s_σ w' $$\n",
    "\n",
    "where $\\{e\\}$ and $\\{w\\}$ are IID and $N(0, 1)$.  \n"
   ]
  },
  {
   "cell_type": "code",
   "execution_count": 5,
   "metadata": {
    "collapsed": true
   },
   "outputs": [],
   "source": [
    "@everywhere mutable struct StochasticVolatility{T <: AbstractFloat}\n",
    "    ρ::T\n",
    "    s_z::T\n",
    "    v::T\n",
    "    d::T\n",
    "    s_σ::T\n",
    "end"
   ]
  },
  {
   "cell_type": "code",
   "execution_count": 6,
   "metadata": {
    "collapsed": true
   },
   "outputs": [],
   "source": [
    "@everywhere function StochasticVolatilityBY(; ρ=0.979, \n",
    "                                  s_z=0.044,      \n",
    "                                  v=0.987,       \n",
    "                                  σ_bar=0.0078,   \n",
    "                                  s_σ=2.3e-6)     \n",
    "    d = σ_bar^2 * (1 - v)\n",
    "    return StochasticVolatility(ρ, s_z, v, d, s_σ)\n",
    "end"
   ]
  },
  {
   "cell_type": "markdown",
   "metadata": {},
   "source": [
    "\n",
    "Discretize the SV model.  Returns a (2, M) matrix \n",
    "x_states, each element x of which is a pair (z, σ) stacked vertically, \n",
    "and a transition matrix Q such that \n",
    "\n",
    "    Q[m, mp] = probability of transition x_states[m] -> x_states[mp]\n",
    "\n",
    "The strategy is to \n",
    "\n",
    "1. Discretize the σ process to produce state values σ_1, ..., σ_I\n",
    "\n",
    "2. For each σ_i, \n",
    "\n",
    "    * discretize the z process to get $z_{i1}, ... z_{iJ}$\n",
    "\n",
    "In each case, discretization uses Rouwenhorst's method \n",
    "\n",
    "The final states are constructed as \n",
    "\n",
    "    x_m = (z_{ij}, σ_i), where m = (i - 1) * J + j.\n",
    "    \n",
    "Each x_m vector is stacked as a column of x_states.  The transition\n",
    "probability Q[m, n] from x_m to x_n is computed from the transition matrices\n",
    "arising from the discretization of σ and z discussed above.\n",
    "\n"
   ]
  },
  {
   "cell_type": "code",
   "execution_count": 7,
   "metadata": {
    "collapsed": true
   },
   "outputs": [],
   "source": [
    "@everywhere multi_from_single(m, J) = div(m - 1, J) + 1, rem(m - 1, J) + 1\n",
    "@everywhere single_from_multi(i, j, J) = (i - 1) * J + j"
   ]
  },
  {
   "cell_type": "code",
   "execution_count": 8,
   "metadata": {
    "collapsed": true
   },
   "outputs": [],
   "source": [
    "@everywhere function discretize_sv(sv::StochasticVolatility, \n",
    "                        I::Integer, \n",
    "                        J::Integer; \n",
    "                        fail_with_neg_σ=false, \n",
    "                        verbose=false) \n",
    "\n",
    "    # Unpack names\n",
    "    ρ, s_z, v, d, s_σ = sv.ρ, sv.s_z, sv.v, sv.d, sv.s_σ\n",
    "\n",
    "    # Discretize σ first\n",
    "    mc = rouwenhorst(I, v, s_σ, d)\n",
    "    sig_Q, sig2 = mc.p, collect(mc.state_values)\n",
    "\n",
    "    # This gives σ^2 values so now we take the square root\n",
    "    σ_states = similar(sig2)\n",
    "    if fail_with_neg_σ == true\n",
    "        @assert all(sig2 .>= 0) \"Discretization failed: negative σ values.\"\n",
    "    else\n",
    "        for i in 1:I\n",
    "            σ_states[i] = sig2[i] < 0 ? 1e-8 : sqrt(sig2[i])\n",
    "        end\n",
    "    end\n",
    "\n",
    "    # Allocate memory\n",
    "    M = I * J\n",
    "    z_states = Array{Float64}(I, J)\n",
    "    q = Array{Float64}(I, J, J)\n",
    "    x_states = Array{Float64}(2, M)\n",
    "    Q = Array{Float64}(M, M)\n",
    "    \n",
    "    # Discretize z at each σ_i and record state values for z in z_states.\n",
    "    # Also, record transition probability from z_states[i, j] to \n",
    "    # z_states[i, jp] when σ = σ_i.  Store it as q[i, j, jp].\n",
    "    for (i, σ) in enumerate(σ_states)\n",
    "        mc_z = rouwenhorst(J, ρ, s_z * σ, 0.0) \n",
    "        for j in 1:J\n",
    "            z_states[i, j] = mc_z.state_values[j]\n",
    "            for jp in 1:J\n",
    "                q[i, j, jp] = mc_z.p[j, jp]  \n",
    "            end\n",
    "        end\n",
    "    end\n",
    "\n",
    "    # Compute x_states and Q\n",
    "    for m in 1:M\n",
    "        i, j = multi_from_single(m, J)\n",
    "        x_states[:, m] = [z_states[i, j], σ_states[i]]\n",
    "        for mp in 1:M\n",
    "            ip, jp = multi_from_single(mp, J)\n",
    "            Q[m, mp] = sig_Q[i, ip] * q[i, j, jp]\n",
    "        end\n",
    "    end\n",
    "\n",
    "    if verbose == true\n",
    "        return x_states, Q, z_states, σ_states\n",
    "    else\n",
    "        return x_states, Q\n",
    "    end\n",
    "end"
   ]
  },
  {
   "cell_type": "markdown",
   "metadata": {},
   "source": [
    "#### Solving the Bansal--Yaron Modle"
   ]
  },
  {
   "cell_type": "code",
   "execution_count": 9,
   "metadata": {
    "collapsed": true
   },
   "outputs": [],
   "source": [
    "@everywhere function compute_K_bansal_yaron(ez::EpsteinZin, \n",
    "                                sv::StochasticVolatility;\n",
    "                                μ=0.0015, \n",
    "                                I=12,   # discretization in σ\n",
    "                                J=10)   # discretization in z for each σ\n",
    "\n",
    "    # Unpack parameters, allocate memory\n",
    "    γ, β, θ = ez.γ, ez.β, ez.θ\n",
    "    M = I * J\n",
    "    K = Array{Float64}(M, M)\n",
    "\n",
    "    # Discretize SV process \n",
    "    x, Q = discretize_sv(sv, I, J)\n",
    "\n",
    "    for m in 1:M\n",
    "        for mp in 1:M\n",
    "            i, j = multi_from_single(m, J)\n",
    "            z, σ = x[1, m], x[2, m] \n",
    "            a = exp((1 - γ) * (μ + z) + (1 - γ)^2 * σ^2 / 2)\n",
    "            K[m, mp] =  a * Q[m, mp]\n",
    "        end\n",
    "    end\n",
    "    \n",
    "    return β^θ * K\n",
    "\n",
    "end"
   ]
  },
  {
   "cell_type": "markdown",
   "metadata": {},
   "source": [
    "### Computing Spec Rad --- with and w/o parallel"
   ]
  },
  {
   "cell_type": "markdown",
   "metadata": {},
   "source": [
    "Now let's compute $r(K)$ for the BY model under a range of parameterizations.  "
   ]
  },
  {
   "cell_type": "code",
   "execution_count": 10,
   "metadata": {
    "collapsed": true
   },
   "outputs": [],
   "source": [
    "@everywhere sv_by = StochasticVolatilityBY()"
   ]
  },
  {
   "cell_type": "code",
   "execution_count": 11,
   "metadata": {
    "collapsed": true
   },
   "outputs": [],
   "source": [
    "J = 20 # grid size\n",
    "ψ_vals = collect(linspace(1.25, 2.25, J))           # ψ\n",
    "μ_vals = collect(linspace(0.0005, 0.01, J));        # μ"
   ]
  },
  {
   "cell_type": "markdown",
   "metadata": {},
   "source": [
    "#### Without Parallelization"
   ]
  },
  {
   "cell_type": "markdown",
   "metadata": {},
   "source": [
    "Here's the matrix that we'll populate with spectral radius values, one for each parameter pair."
   ]
  },
  {
   "cell_type": "code",
   "execution_count": 12,
   "metadata": {
    "collapsed": true
   },
   "outputs": [],
   "source": [
    "R = Array{Float64}(J, J);"
   ]
  },
  {
   "cell_type": "markdown",
   "metadata": {},
   "source": [
    "Let's populate this matrix without parallelization."
   ]
  },
  {
   "cell_type": "code",
   "execution_count": 13,
   "metadata": {},
   "outputs": [
    {
     "name": "stdout",
     "output_type": "stream",
     "text": [
      " 14.174470 seconds (89.78 M allocations: 1.849 GiB, 1.28% gc time)\n"
     ]
    }
   ],
   "source": [
    "@time for i in 1:J\n",
    "    for j in 1:J\n",
    "        ez = EpsteinZinBY(ψ=ψ_vals[i])\n",
    "        @assert ez.θ < 0 \"Detected non-negative theta value\"\n",
    "        K = compute_K_bansal_yaron(ez, sv_by, μ=μ_vals[j])\n",
    "        R[i, j] = compute_spec_rad(K)\n",
    "    end\n",
    "end"
   ]
  },
  {
   "cell_type": "markdown",
   "metadata": {},
   "source": [
    "#### With Parallelization"
   ]
  },
  {
   "cell_type": "code",
   "execution_count": 14,
   "metadata": {
    "collapsed": true
   },
   "outputs": [],
   "source": [
    "R = SharedArray{Float64}(J, J);"
   ]
  },
  {
   "cell_type": "code",
   "execution_count": 25,
   "metadata": {},
   "outputs": [
    {
     "name": "stdout",
     "output_type": "stream",
     "text": [
      "  1.657252 seconds (71.27 k allocations: 3.862 MiB, 0.14% gc time)\n"
     ]
    },
    {
     "data": {
      "text/plain": [
       "4-element Array{Future,1}:\n",
       " Future(2, 1, 105, #NULL)\n",
       " Future(3, 1, 106, #NULL)\n",
       " Future(4, 1, 107, #NULL)\n",
       " Future(5, 1, 108, #NULL)"
      ]
     },
     "execution_count": 25,
     "metadata": {},
     "output_type": "execute_result"
    }
   ],
   "source": [
    "@time @sync @parallel for i in 1:J\n",
    "    for j in 1:J\n",
    "        ez = EpsteinZinBY(ψ=ψ_vals[i])\n",
    "        @assert ez.θ < 0 \"Detected non-negative theta value\"\n",
    "        K = compute_K_bansal_yaron(ez, sv_by, μ=μ_vals[j])\n",
    "        R[i, j] = compute_spec_rad(K)\n",
    "    end\n",
    "end"
   ]
  },
  {
   "cell_type": "code",
   "execution_count": null,
   "metadata": {
    "collapsed": true
   },
   "outputs": [],
   "source": []
  }
 ],
 "metadata": {
  "kernelspec": {
   "display_name": "Julia 0.6.0",
   "language": "julia",
   "name": "julia-0.6"
  },
  "language_info": {
   "file_extension": ".jl",
   "mimetype": "application/julia",
   "name": "julia",
   "version": "0.6.0"
  }
 },
 "nbformat": 4,
 "nbformat_minor": 2
}
