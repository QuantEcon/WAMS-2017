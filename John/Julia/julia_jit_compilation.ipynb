{
 "cells": [
  {
   "cell_type": "markdown",
   "metadata": {},
   "source": [
    "## JIT Compilation in Julia"
   ]
  },
  {
   "cell_type": "markdown",
   "metadata": {},
   "source": [
    "A discussion of just-in-time compilation in Julia and how it affects performance.  \n",
    "\n",
    "Prepared for WAMS 2017 by [John Stachurski](http://johnstachurski.net/)"
   ]
  },
  {
   "cell_type": "markdown",
   "metadata": {},
   "source": [
    "### Paradigms"
   ]
  },
  {
   "cell_type": "markdown",
   "metadata": {},
   "source": [
    "* AOT compilation\n",
    "* Interpreters\n",
    "* JIT compilation"
   ]
  },
  {
   "cell_type": "markdown",
   "metadata": {},
   "source": [
    "### How does JIT compilation work?"
   ]
  },
  {
   "cell_type": "markdown",
   "metadata": {},
   "source": [
    "Here's a simple function."
   ]
  },
  {
   "cell_type": "code",
   "execution_count": 1,
   "metadata": {},
   "outputs": [
    {
     "data": {
      "text/plain": [
       "f (generic function with 1 method)"
      ]
     },
     "execution_count": 1,
     "metadata": {},
     "output_type": "execute_result"
    }
   ],
   "source": [
    "f(x, y) = 2x + y"
   ]
  },
  {
   "cell_type": "markdown",
   "metadata": {},
   "source": [
    "When a computer executes this, it needs to know the type of `x` and `y`\n",
    "\n",
    "* floating point addition?\n",
    "* integer addition?\n",
    "\n",
    "AOT compiler approach: \n",
    "\n",
    "* Insist that the types are specified in the function declaration\n",
    "* Generate compiled code accordingly\n",
    "\n",
    "Interpreted approach: \n",
    "\n",
    "* Figure it what `+` means at run time by checking types\n",
    "* perform action\n",
    "\n",
    "JIT compiler approach: \n",
    "\n",
    "* Inspect types of the parameters `x` and `y` when the function is called\n",
    "* Build an appropriate compiled version\n",
    "\n",
    "* For subsequent calls `f(x, y)`, test the type of `x` and `y` and \n",
    "    * dispatch to existing compiled version if same as before, or\n",
    "    * compile a new version, if different"
   ]
  },
  {
   "cell_type": "markdown",
   "metadata": {},
   "source": [
    "#### Example"
   ]
  },
  {
   "cell_type": "markdown",
   "metadata": {},
   "source": [
    "First time we call, Julia compiles `f` to native machine code and runs it."
   ]
  },
  {
   "cell_type": "code",
   "execution_count": 3,
   "metadata": {},
   "outputs": [
    {
     "data": {
      "text/plain": [
       "3"
      ]
     },
     "execution_count": 3,
     "metadata": {},
     "output_type": "execute_result"
    }
   ],
   "source": [
    "f(1, 1)"
   ]
  },
  {
   "cell_type": "code",
   "execution_count": 4,
   "metadata": {},
   "outputs": [
    {
     "name": "stdout",
     "output_type": "stream",
     "text": [
      "\t.text\n",
      "Filename: In[1]\n",
      "\tpushq\t%rbp\n",
      "\tmovq\t%rsp, %rbp\n",
      "Source line: 1\n",
      "\tleaq\t(%rsi,%rdi,2), %rax\n",
      "\tpopq\t%rbp\n",
      "\tretq\n",
      "\tnopw\t(%rax,%rax)\n"
     ]
    }
   ],
   "source": [
    "@code_native f(1, 1)"
   ]
  },
  {
   "cell_type": "markdown",
   "metadata": {},
   "source": [
    "When we call it with different argument times, it compiles a new version."
   ]
  },
  {
   "cell_type": "code",
   "execution_count": 5,
   "metadata": {},
   "outputs": [
    {
     "data": {
      "text/plain": [
       "3.0"
      ]
     },
     "execution_count": 5,
     "metadata": {},
     "output_type": "execute_result"
    }
   ],
   "source": [
    "f(1.0, 1.0)"
   ]
  },
  {
   "cell_type": "code",
   "execution_count": 6,
   "metadata": {},
   "outputs": [
    {
     "name": "stdout",
     "output_type": "stream",
     "text": [
      "\t.text\n",
      "Filename: In[1]\n",
      "\tpushq\t%rbp\n",
      "\tmovq\t%rsp, %rbp\n",
      "Source line: 1\n",
      "\taddsd\t%xmm0, %xmm0\n",
      "\taddsd\t%xmm1, %xmm0\n",
      "\tpopq\t%rbp\n",
      "\tretq\n",
      "\tnop\n"
     ]
    }
   ],
   "source": [
    "@code_native f(1.0, 1.0)"
   ]
  },
  {
   "cell_type": "markdown",
   "metadata": {},
   "source": [
    "Type inference is performed on the fly:"
   ]
  },
  {
   "cell_type": "code",
   "execution_count": 7,
   "metadata": {},
   "outputs": [
    {
     "data": {
      "text/plain": [
       "g (generic function with 1 method)"
      ]
     },
     "execution_count": 7,
     "metadata": {},
     "output_type": "execute_result"
    }
   ],
   "source": [
    "function g(x)\n",
    "    a = 2x\n",
    "    b = 3a\n",
    "    return b\n",
    "end"
   ]
  },
  {
   "cell_type": "code",
   "execution_count": 8,
   "metadata": {},
   "outputs": [
    {
     "data": {
      "text/plain": [
       "6"
      ]
     },
     "execution_count": 8,
     "metadata": {},
     "output_type": "execute_result"
    }
   ],
   "source": [
    "g(1)"
   ]
  },
  {
   "cell_type": "code",
   "execution_count": 9,
   "metadata": {},
   "outputs": [
    {
     "name": "stdout",
     "output_type": "stream",
     "text": [
      "\t.text\n",
      "Filename: In[7]\n",
      "\tpushq\t%rbp\n",
      "\tmovq\t%rsp, %rbp\n",
      "Source line: 3\n",
      "\taddq\t%rdi, %rdi\n",
      "\tleaq\t(%rdi,%rdi,2), %rax\n",
      "Source line: 4\n",
      "\tpopq\t%rbp\n",
      "\tretq\n",
      "\tnopl\t(%rax)\n"
     ]
    }
   ],
   "source": [
    "@code_native g(1)"
   ]
  },
  {
   "cell_type": "code",
   "execution_count": 10,
   "metadata": {},
   "outputs": [
    {
     "data": {
      "text/plain": [
       "6.0"
      ]
     },
     "execution_count": 10,
     "metadata": {},
     "output_type": "execute_result"
    }
   ],
   "source": [
    "g(1.0)"
   ]
  },
  {
   "cell_type": "code",
   "execution_count": 11,
   "metadata": {},
   "outputs": [
    {
     "name": "stdout",
     "output_type": "stream",
     "text": [
      "\t.text\n",
      "Filename: In[7]\n",
      "\tpushq\t%rbp\n",
      "\tmovq\t%rsp, %rbp\n",
      "Source line: 2\n",
      "\taddsd\t%xmm0, %xmm0\n",
      "\tmovabsq\t$140283090539048, %rax  # imm = 0x7F9633C79228\n",
      "Source line: 3\n",
      "\tmulsd\t(%rax), %xmm0\n",
      "Source line: 4\n",
      "\tpopq\t%rbp\n",
      "\tretq\n",
      "\tnopl\t(%rax,%rax)\n"
     ]
    }
   ],
   "source": [
    "@code_native g(1.0)"
   ]
  },
  {
   "cell_type": "markdown",
   "metadata": {},
   "source": [
    "We can specify the argument type if we want."
   ]
  },
  {
   "cell_type": "code",
   "execution_count": 12,
   "metadata": {},
   "outputs": [
    {
     "data": {
      "text/plain": [
       "g_typed (generic function with 1 method)"
      ]
     },
     "execution_count": 12,
     "metadata": {},
     "output_type": "execute_result"
    }
   ],
   "source": [
    "function g_typed(x::Float64)\n",
    "    a = 2x\n",
    "    b = 3a\n",
    "    return b\n",
    "end"
   ]
  },
  {
   "cell_type": "code",
   "execution_count": 13,
   "metadata": {},
   "outputs": [
    {
     "data": {
      "text/plain": [
       "6.0"
      ]
     },
     "execution_count": 13,
     "metadata": {},
     "output_type": "execute_result"
    }
   ],
   "source": [
    "g_typed(1.0)"
   ]
  },
  {
   "cell_type": "markdown",
   "metadata": {},
   "source": [
    "But it doesn't affect speed, at least in theory, since type inference occurs when the type isn't specified.  On the other hand, it allows us to write specialized code for different arguments."
   ]
  },
  {
   "cell_type": "code",
   "execution_count": 14,
   "metadata": {},
   "outputs": [
    {
     "data": {
      "text/plain": [
       "h (generic function with 1 method)"
      ]
     },
     "execution_count": 14,
     "metadata": {},
     "output_type": "execute_result"
    }
   ],
   "source": [
    "function h(x::Float64)\n",
    "    println(\"Doing something with a float\")\n",
    "end"
   ]
  },
  {
   "cell_type": "code",
   "execution_count": 15,
   "metadata": {},
   "outputs": [
    {
     "data": {
      "text/plain": [
       "h (generic function with 2 methods)"
      ]
     },
     "execution_count": 15,
     "metadata": {},
     "output_type": "execute_result"
    }
   ],
   "source": [
    "function h(x::Int64)\n",
    "    println(\"Doing something with an integer\")\n",
    "end"
   ]
  },
  {
   "cell_type": "code",
   "execution_count": 16,
   "metadata": {},
   "outputs": [
    {
     "name": "stdout",
     "output_type": "stream",
     "text": [
      "Doing something with a float\n"
     ]
    }
   ],
   "source": [
    "h(1.0)"
   ]
  },
  {
   "cell_type": "code",
   "execution_count": 17,
   "metadata": {},
   "outputs": [
    {
     "name": "stdout",
     "output_type": "stream",
     "text": [
      "Doing something with an integer\n"
     ]
    }
   ],
   "source": [
    "h(1)"
   ]
  },
  {
   "cell_type": "markdown",
   "metadata": {},
   "source": [
    "### Julia's JIT compiler is fast."
   ]
  },
  {
   "cell_type": "code",
   "execution_count": 18,
   "metadata": {},
   "outputs": [
    {
     "data": {
      "text/plain": [
       "quad (generic function with 1 method)"
      ]
     },
     "execution_count": 18,
     "metadata": {},
     "output_type": "execute_result"
    }
   ],
   "source": [
    "function quad(x0, n)\n",
    "    x = x0\n",
    "    for i in 1:n\n",
    "        x = 4.0 * x * (1.0 - x)\n",
    "    end\n",
    "    return x\n",
    "end"
   ]
  },
  {
   "cell_type": "code",
   "execution_count": 19,
   "metadata": {},
   "outputs": [
    {
     "data": {
      "text/plain": [
       "10000000"
      ]
     },
     "execution_count": 19,
     "metadata": {},
     "output_type": "execute_result"
    }
   ],
   "source": [
    "n = 10_000_000"
   ]
  },
  {
   "cell_type": "code",
   "execution_count": 20,
   "metadata": {},
   "outputs": [
    {
     "name": "stdout",
     "output_type": "stream",
     "text": [
      "  0.037311 seconds (1.68 k allocations: 98.059 KiB)\n"
     ]
    },
    {
     "data": {
      "text/plain": [
       "0.9942245057972676"
      ]
     },
     "execution_count": 20,
     "metadata": {},
     "output_type": "execute_result"
    }
   ],
   "source": [
    "@time x = quad(0.2, n)"
   ]
  },
  {
   "cell_type": "code",
   "execution_count": 21,
   "metadata": {},
   "outputs": [
    {
     "name": "stdout",
     "output_type": "stream",
     "text": [
      "  0.035310 seconds (5 allocations: 176 bytes)\n"
     ]
    },
    {
     "data": {
      "text/plain": [
       "0.9942245057972676"
      ]
     },
     "execution_count": 21,
     "metadata": {},
     "output_type": "execute_result"
    }
   ],
   "source": [
    "@time x = quad(0.2, n)"
   ]
  },
  {
   "cell_type": "markdown",
   "metadata": {},
   "source": [
    "Faster than comparable C code on my machine.   The reason is that the JIT compiler generates nice, efficient machine code."
   ]
  },
  {
   "cell_type": "code",
   "execution_count": 22,
   "metadata": {},
   "outputs": [
    {
     "name": "stdout",
     "output_type": "stream",
     "text": [
      "\t.text\n",
      "Filename: In[18]\n",
      "\tpushq\t%rbp\n",
      "\tmovq\t%rsp, %rbp\n",
      "Source line: 3\n",
      "\ttestq\t%rdi, %rdi\n",
      "\tjle\tL69\n",
      "\tmovabsq\t$140283090540376, %rax  # imm = 0x7F9633C79758\n",
      "\tmovsd\t(%rax), %xmm1           # xmm1 = mem[0],zero\n",
      "\tmovabsq\t$140283090540384, %rax  # imm = 0x7F9633C79760\n",
      "Source line: 4\n",
      "\tmovsd\t(%rax), %xmm2           # xmm2 = mem[0],zero\n",
      "\tnopw\t%cs:(%rax,%rax)\n",
      "L48:\n",
      "\tmovapd\t%xmm2, %xmm3\n",
      "\tsubsd\t%xmm0, %xmm3\n",
      "\tmulsd\t%xmm1, %xmm0\n",
      "\tmulsd\t%xmm3, %xmm0\n",
      "Source line: 3\n",
      "\tdecq\t%rdi\n",
      "\tjne\tL48\n",
      "Source line: 6\n",
      "L69:\n",
      "\tpopq\t%rbp\n",
      "\tretq\n",
      "\tnopw\t(%rax,%rax)\n"
     ]
    }
   ],
   "source": [
    "@code_native quad(0.2, 10)"
   ]
  },
  {
   "cell_type": "markdown",
   "metadata": {},
   "source": [
    "### JIT compilers can fail to produce fast code, though"
   ]
  },
  {
   "cell_type": "code",
   "execution_count": 23,
   "metadata": {},
   "outputs": [
    {
     "data": {
      "text/plain": [
       "g_with_global (generic function with 1 method)"
      ]
     },
     "execution_count": 23,
     "metadata": {},
     "output_type": "execute_result"
    }
   ],
   "source": [
    "b = 1.0\n",
    "\n",
    "function g_with_global(a)\n",
    "    for i in 1:10_000_000\n",
    "        tmp = a + b\n",
    "    end\n",
    "end"
   ]
  },
  {
   "cell_type": "code",
   "execution_count": 24,
   "metadata": {},
   "outputs": [
    {
     "name": "stdout",
     "output_type": "stream",
     "text": [
      "  0.231241 seconds (20.00 M allocations: 305.227 MiB, 7.54% gc time)\n"
     ]
    }
   ],
   "source": [
    "@time g_with_global(1.0)"
   ]
  },
  {
   "cell_type": "code",
   "execution_count": 25,
   "metadata": {},
   "outputs": [
    {
     "data": {
      "text/plain": [
       "g_without_global (generic function with 1 method)"
      ]
     },
     "execution_count": 25,
     "metadata": {},
     "output_type": "execute_result"
    }
   ],
   "source": [
    "function g_without_global(a)\n",
    "    b = 1.0\n",
    "    for i in 1:10_000_000\n",
    "        tmp = a + b\n",
    "    end\n",
    "end"
   ]
  },
  {
   "cell_type": "code",
   "execution_count": 27,
   "metadata": {},
   "outputs": [
    {
     "name": "stdout",
     "output_type": "stream",
     "text": [
      "  0.000002 seconds (4 allocations: 160 bytes)\n"
     ]
    }
   ],
   "source": [
    "@time g_without_global(1.0)"
   ]
  },
  {
   "cell_type": "markdown",
   "metadata": {},
   "source": [
    "Let's have a look at the machine code."
   ]
  },
  {
   "cell_type": "code",
   "execution_count": 28,
   "metadata": {},
   "outputs": [
    {
     "name": "stdout",
     "output_type": "stream",
     "text": [
      "\t.text\n",
      "Filename: In[23]\n",
      "\tpushq\t%rbp\n",
      "\tmovq\t%rsp, %rbp\n",
      "\tpushq\t%r15\n",
      "\tpushq\t%r14\n",
      "\tpushq\t%r13\n",
      "\tpushq\t%r12\n",
      "\tpushq\t%rbx\n",
      "\tsubq\t$56, %rsp\n",
      "\tmovsd\t%xmm0, -48(%rbp)\n",
      "\tmovq\t%fs:0, %r12\n",
      "\taddq\t$-10888, %r12           # imm = 0xD578\n",
      "\txorpd\t%xmm0, %xmm0\n",
      "\tmovupd\t%xmm0, -72(%rbp)\n",
      "\tmovq\t$0, -56(%rbp)\n",
      "\tmovq\t$6, -88(%rbp)\n",
      "\tmovq\t(%r12), %rax\n",
      "\tmovq\t%rax, -80(%rbp)\n",
      "\tleaq\t-88(%rbp), %rax\n",
      "\tmovq\t%rax, (%r12)\n",
      "\tmovabsq\t$140283032602472, %rax  # imm = 0x7F9630538768\n",
      "\tmovl\t$10000000, %ebx         # imm = 0x989680\n",
      "Source line: 5\n",
      "\tleaq\t457174864(%rax), %r13\n",
      "\tleaq\t457158408(%rax), %r15\n",
      "\tmovabsq\t$jl_apply_generic, %r14\n",
      "\tnopw\t%cs:(%rax,%rax)\n",
      "L128:\n",
      "\tmovabsq\t$140283032602472, %rax  # imm = 0x7F9630538768\n",
      "\tmovq\t(%rax), %rax\n",
      "\tmovq\t%rax, -56(%rbp)\n",
      "\tmovq\t%r13, -72(%rbp)\n",
      "\tmovl\t$1432, %esi             # imm = 0x598\n",
      "\tmovl\t$16, %edx\n",
      "\tmovq\t%r12, %rdi\n",
      "\tmovabsq\t$jl_gc_pool_alloc, %rax\n",
      "\tcallq\t*%rax\n",
      "\tmovq\t%r15, -8(%rax)\n",
      "\tmovsd\t-48(%rbp), %xmm0        # xmm0 = mem[0],zero\n",
      "\tmovsd\t%xmm0, (%rax)\n",
      "\tmovq\t%rax, -64(%rbp)\n",
      "\tmovl\t$3, %esi\n",
      "\tleaq\t-72(%rbp), %rdi\n",
      "\tcallq\t*%r14\n",
      "Source line: 4\n",
      "\tdecq\t%rbx\n",
      "\tjne\tL128\n",
      "Source line: 5\n",
      "\tmovq\t-80(%rbp), %rax\n",
      "\tmovq\t%rax, (%r12)\n",
      "\taddq\t$56, %rsp\n",
      "\tpopq\t%rbx\n",
      "\tpopq\t%r12\n",
      "\tpopq\t%r13\n",
      "\tpopq\t%r14\n",
      "\tpopq\t%r15\n",
      "\tpopq\t%rbp\n",
      "\tretq\n",
      "\tnopw\t(%rax,%rax)\n"
     ]
    }
   ],
   "source": [
    "@code_native g_with_global(1.0)"
   ]
  },
  {
   "cell_type": "code",
   "execution_count": 29,
   "metadata": {},
   "outputs": [
    {
     "name": "stdout",
     "output_type": "stream",
     "text": [
      "\t.text\n",
      "Filename: In[25]\n",
      "\tpushq\t%rbp\n",
      "\tmovq\t%rsp, %rbp\n",
      "Source line: 4\n",
      "\tpopq\t%rbp\n",
      "\tretq\n",
      "\tnopw\t%cs:(%rax,%rax)\n"
     ]
    }
   ],
   "source": [
    "@code_native g_without_global(1.0)"
   ]
  },
  {
   "cell_type": "markdown",
   "metadata": {},
   "source": [
    "Although I can fix this using `const`"
   ]
  },
  {
   "cell_type": "code",
   "execution_count": 30,
   "metadata": {},
   "outputs": [
    {
     "data": {
      "text/plain": [
       "1.0"
      ]
     },
     "execution_count": 30,
     "metadata": {},
     "output_type": "execute_result"
    }
   ],
   "source": [
    "const b_const = 1.0"
   ]
  },
  {
   "cell_type": "code",
   "execution_count": 31,
   "metadata": {},
   "outputs": [
    {
     "data": {
      "text/plain": [
       "g_with_const_global (generic function with 1 method)"
      ]
     },
     "execution_count": 31,
     "metadata": {},
     "output_type": "execute_result"
    }
   ],
   "source": [
    "function g_with_const_global(a)\n",
    "    for i in 1:10_000_000\n",
    "        tmp = a + b_const\n",
    "    end\n",
    "end"
   ]
  },
  {
   "cell_type": "code",
   "execution_count": 32,
   "metadata": {},
   "outputs": [
    {
     "name": "stdout",
     "output_type": "stream",
     "text": [
      "\t.text\n",
      "Filename: In[31]\n",
      "\tpushq\t%rbp\n",
      "\tmovq\t%rsp, %rbp\n",
      "Source line: 3\n",
      "\tpopq\t%rbp\n",
      "\tretq\n",
      "\tnopw\t%cs:(%rax,%rax)\n"
     ]
    }
   ],
   "source": [
    "@code_native g_with_const_global(1.0)"
   ]
  },
  {
   "cell_type": "code",
   "execution_count": 33,
   "metadata": {},
   "outputs": [
    {
     "name": "stdout",
     "output_type": "stream",
     "text": [
      "  0.000053 seconds (5 allocations: 240 bytes)\n"
     ]
    }
   ],
   "source": [
    "@time g_with_const_global(1.0)"
   ]
  },
  {
   "cell_type": "markdown",
   "metadata": {
    "collapsed": true
   },
   "source": [
    "### Further Information"
   ]
  },
  {
   "cell_type": "markdown",
   "metadata": {},
   "source": [
    "* https://lectures.quantecon.org/jl/types_methods.html\n",
    "* https://lectures.quantecon.org/jl/need_for_speed.html"
   ]
  },
  {
   "cell_type": "code",
   "execution_count": null,
   "metadata": {
    "collapsed": true
   },
   "outputs": [],
   "source": []
  }
 ],
 "metadata": {
  "kernelspec": {
   "display_name": "Julia 0.6.0",
   "language": "julia",
   "name": "julia-0.6"
  },
  "language_info": {
   "file_extension": ".jl",
   "mimetype": "application/julia",
   "name": "julia",
   "version": "0.6.0"
  }
 },
 "nbformat": 4,
 "nbformat_minor": 2
}
